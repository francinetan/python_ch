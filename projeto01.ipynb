{
 "cells": [
  {
   "cell_type": "code",
   "execution_count": 1,
   "metadata": {},
   "outputs": [],
   "source": [
    "import requests"
   ]
  },
  {
   "cell_type": "code",
   "execution_count": 7,
   "metadata": {},
   "outputs": [],
   "source": [
    "requisicao = requests.get('https://brasilapi.com.br/api/ibge/uf/v1')"
   ]
  },
  {
   "cell_type": "code",
   "execution_count": 8,
   "metadata": {},
   "outputs": [
    {
     "data": {
      "text/plain": [
       "200"
      ]
     },
     "execution_count": 8,
     "metadata": {},
     "output_type": "execute_result"
    }
   ],
   "source": [
    "requisicao.status_code"
   ]
  },
  {
   "cell_type": "code",
   "execution_count": 9,
   "metadata": {},
   "outputs": [
    {
     "data": {
      "text/plain": [
       "'[{\"id\":11,\"sigla\":\"RO\",\"nome\":\"Rondônia\",\"regiao\":{\"id\":1,\"sigla\":\"N\",\"nome\":\"Norte\"}},{\"id\":12,\"sigla\":\"AC\",\"nome\":\"Acre\",\"regiao\":{\"id\":1,\"sigla\":\"N\",\"nome\":\"Norte\"}},{\"id\":13,\"sigla\":\"AM\",\"nome\":\"Amazonas\",\"regiao\":{\"id\":1,\"sigla\":\"N\",\"nome\":\"Norte\"}},{\"id\":14,\"sigla\":\"RR\",\"nome\":\"Roraima\",\"regiao\":{\"id\":1,\"sigla\":\"N\",\"nome\":\"Norte\"}},{\"id\":15,\"sigla\":\"PA\",\"nome\":\"Pará\",\"regiao\":{\"id\":1,\"sigla\":\"N\",\"nome\":\"Norte\"}},{\"id\":16,\"sigla\":\"AP\",\"nome\":\"Amapá\",\"regiao\":{\"id\":1,\"sigla\":\"N\",\"nome\":\"Norte\"}},{\"id\":17,\"sigla\":\"TO\",\"nome\":\"Tocantins\",\"regiao\":{\"id\":1,\"sigla\":\"N\",\"nome\":\"Norte\"}},{\"id\":21,\"sigla\":\"MA\",\"nome\":\"Maranhão\",\"regiao\":{\"id\":2,\"sigla\":\"NE\",\"nome\":\"Nordeste\"}},{\"id\":22,\"sigla\":\"PI\",\"nome\":\"Piauí\",\"regiao\":{\"id\":2,\"sigla\":\"NE\",\"nome\":\"Nordeste\"}},{\"id\":23,\"sigla\":\"CE\",\"nome\":\"Ceará\",\"regiao\":{\"id\":2,\"sigla\":\"NE\",\"nome\":\"Nordeste\"}},{\"id\":24,\"sigla\":\"RN\",\"nome\":\"Rio Grande do Norte\",\"regiao\":{\"id\":2,\"sigla\":\"NE\",\"nome\":\"Nordeste\"}},{\"id\":25,\"sigla\":\"PB\",\"nome\":\"Paraíba\",\"regiao\":{\"id\":2,\"sigla\":\"NE\",\"nome\":\"Nordeste\"}},{\"id\":26,\"sigla\":\"PE\",\"nome\":\"Pernambuco\",\"regiao\":{\"id\":2,\"sigla\":\"NE\",\"nome\":\"Nordeste\"}},{\"id\":27,\"sigla\":\"AL\",\"nome\":\"Alagoas\",\"regiao\":{\"id\":2,\"sigla\":\"NE\",\"nome\":\"Nordeste\"}},{\"id\":28,\"sigla\":\"SE\",\"nome\":\"Sergipe\",\"regiao\":{\"id\":2,\"sigla\":\"NE\",\"nome\":\"Nordeste\"}},{\"id\":29,\"sigla\":\"BA\",\"nome\":\"Bahia\",\"regiao\":{\"id\":2,\"sigla\":\"NE\",\"nome\":\"Nordeste\"}},{\"id\":31,\"sigla\":\"MG\",\"nome\":\"Minas Gerais\",\"regiao\":{\"id\":3,\"sigla\":\"SE\",\"nome\":\"Sudeste\"}},{\"id\":32,\"sigla\":\"ES\",\"nome\":\"Espírito Santo\",\"regiao\":{\"id\":3,\"sigla\":\"SE\",\"nome\":\"Sudeste\"}},{\"id\":33,\"sigla\":\"RJ\",\"nome\":\"Rio de Janeiro\",\"regiao\":{\"id\":3,\"sigla\":\"SE\",\"nome\":\"Sudeste\"}},{\"id\":35,\"sigla\":\"SP\",\"nome\":\"São Paulo\",\"regiao\":{\"id\":3,\"sigla\":\"SE\",\"nome\":\"Sudeste\"}},{\"id\":41,\"sigla\":\"PR\",\"nome\":\"Paraná\",\"regiao\":{\"id\":4,\"sigla\":\"S\",\"nome\":\"Sul\"}},{\"id\":42,\"sigla\":\"SC\",\"nome\":\"Santa Catarina\",\"regiao\":{\"id\":4,\"sigla\":\"S\",\"nome\":\"Sul\"}},{\"id\":43,\"sigla\":\"RS\",\"nome\":\"Rio Grande do Sul\",\"regiao\":{\"id\":4,\"sigla\":\"S\",\"nome\":\"Sul\"}},{\"id\":50,\"sigla\":\"MS\",\"nome\":\"Mato Grosso do Sul\",\"regiao\":{\"id\":5,\"sigla\":\"CO\",\"nome\":\"Centro-Oeste\"}},{\"id\":51,\"sigla\":\"MT\",\"nome\":\"Mato Grosso\",\"regiao\":{\"id\":5,\"sigla\":\"CO\",\"nome\":\"Centro-Oeste\"}},{\"id\":52,\"sigla\":\"GO\",\"nome\":\"Goiás\",\"regiao\":{\"id\":5,\"sigla\":\"CO\",\"nome\":\"Centro-Oeste\"}},{\"id\":53,\"sigla\":\"DF\",\"nome\":\"Distrito Federal\",\"regiao\":{\"id\":5,\"sigla\":\"CO\",\"nome\":\"Centro-Oeste\"}}]'"
      ]
     },
     "execution_count": 9,
     "metadata": {},
     "output_type": "execute_result"
    }
   ],
   "source": [
    "requisicao.text"
   ]
  },
  {
   "cell_type": "code",
   "execution_count": 10,
   "metadata": {},
   "outputs": [],
   "source": [
    "data_json = requisicao.json()"
   ]
  },
  {
   "cell_type": "code",
   "execution_count": 11,
   "metadata": {},
   "outputs": [
    {
     "data": {
      "text/plain": [
       "[{'id': 11,\n",
       "  'sigla': 'RO',\n",
       "  'nome': 'Rondônia',\n",
       "  'regiao': {'id': 1, 'sigla': 'N', 'nome': 'Norte'}},\n",
       " {'id': 12,\n",
       "  'sigla': 'AC',\n",
       "  'nome': 'Acre',\n",
       "  'regiao': {'id': 1, 'sigla': 'N', 'nome': 'Norte'}},\n",
       " {'id': 13,\n",
       "  'sigla': 'AM',\n",
       "  'nome': 'Amazonas',\n",
       "  'regiao': {'id': 1, 'sigla': 'N', 'nome': 'Norte'}},\n",
       " {'id': 14,\n",
       "  'sigla': 'RR',\n",
       "  'nome': 'Roraima',\n",
       "  'regiao': {'id': 1, 'sigla': 'N', 'nome': 'Norte'}},\n",
       " {'id': 15,\n",
       "  'sigla': 'PA',\n",
       "  'nome': 'Pará',\n",
       "  'regiao': {'id': 1, 'sigla': 'N', 'nome': 'Norte'}},\n",
       " {'id': 16,\n",
       "  'sigla': 'AP',\n",
       "  'nome': 'Amapá',\n",
       "  'regiao': {'id': 1, 'sigla': 'N', 'nome': 'Norte'}},\n",
       " {'id': 17,\n",
       "  'sigla': 'TO',\n",
       "  'nome': 'Tocantins',\n",
       "  'regiao': {'id': 1, 'sigla': 'N', 'nome': 'Norte'}},\n",
       " {'id': 21,\n",
       "  'sigla': 'MA',\n",
       "  'nome': 'Maranhão',\n",
       "  'regiao': {'id': 2, 'sigla': 'NE', 'nome': 'Nordeste'}},\n",
       " {'id': 22,\n",
       "  'sigla': 'PI',\n",
       "  'nome': 'Piauí',\n",
       "  'regiao': {'id': 2, 'sigla': 'NE', 'nome': 'Nordeste'}},\n",
       " {'id': 23,\n",
       "  'sigla': 'CE',\n",
       "  'nome': 'Ceará',\n",
       "  'regiao': {'id': 2, 'sigla': 'NE', 'nome': 'Nordeste'}},\n",
       " {'id': 24,\n",
       "  'sigla': 'RN',\n",
       "  'nome': 'Rio Grande do Norte',\n",
       "  'regiao': {'id': 2, 'sigla': 'NE', 'nome': 'Nordeste'}},\n",
       " {'id': 25,\n",
       "  'sigla': 'PB',\n",
       "  'nome': 'Paraíba',\n",
       "  'regiao': {'id': 2, 'sigla': 'NE', 'nome': 'Nordeste'}},\n",
       " {'id': 26,\n",
       "  'sigla': 'PE',\n",
       "  'nome': 'Pernambuco',\n",
       "  'regiao': {'id': 2, 'sigla': 'NE', 'nome': 'Nordeste'}},\n",
       " {'id': 27,\n",
       "  'sigla': 'AL',\n",
       "  'nome': 'Alagoas',\n",
       "  'regiao': {'id': 2, 'sigla': 'NE', 'nome': 'Nordeste'}},\n",
       " {'id': 28,\n",
       "  'sigla': 'SE',\n",
       "  'nome': 'Sergipe',\n",
       "  'regiao': {'id': 2, 'sigla': 'NE', 'nome': 'Nordeste'}},\n",
       " {'id': 29,\n",
       "  'sigla': 'BA',\n",
       "  'nome': 'Bahia',\n",
       "  'regiao': {'id': 2, 'sigla': 'NE', 'nome': 'Nordeste'}},\n",
       " {'id': 31,\n",
       "  'sigla': 'MG',\n",
       "  'nome': 'Minas Gerais',\n",
       "  'regiao': {'id': 3, 'sigla': 'SE', 'nome': 'Sudeste'}},\n",
       " {'id': 32,\n",
       "  'sigla': 'ES',\n",
       "  'nome': 'Espírito Santo',\n",
       "  'regiao': {'id': 3, 'sigla': 'SE', 'nome': 'Sudeste'}},\n",
       " {'id': 33,\n",
       "  'sigla': 'RJ',\n",
       "  'nome': 'Rio de Janeiro',\n",
       "  'regiao': {'id': 3, 'sigla': 'SE', 'nome': 'Sudeste'}},\n",
       " {'id': 35,\n",
       "  'sigla': 'SP',\n",
       "  'nome': 'São Paulo',\n",
       "  'regiao': {'id': 3, 'sigla': 'SE', 'nome': 'Sudeste'}},\n",
       " {'id': 41,\n",
       "  'sigla': 'PR',\n",
       "  'nome': 'Paraná',\n",
       "  'regiao': {'id': 4, 'sigla': 'S', 'nome': 'Sul'}},\n",
       " {'id': 42,\n",
       "  'sigla': 'SC',\n",
       "  'nome': 'Santa Catarina',\n",
       "  'regiao': {'id': 4, 'sigla': 'S', 'nome': 'Sul'}},\n",
       " {'id': 43,\n",
       "  'sigla': 'RS',\n",
       "  'nome': 'Rio Grande do Sul',\n",
       "  'regiao': {'id': 4, 'sigla': 'S', 'nome': 'Sul'}},\n",
       " {'id': 50,\n",
       "  'sigla': 'MS',\n",
       "  'nome': 'Mato Grosso do Sul',\n",
       "  'regiao': {'id': 5, 'sigla': 'CO', 'nome': 'Centro-Oeste'}},\n",
       " {'id': 51,\n",
       "  'sigla': 'MT',\n",
       "  'nome': 'Mato Grosso',\n",
       "  'regiao': {'id': 5, 'sigla': 'CO', 'nome': 'Centro-Oeste'}},\n",
       " {'id': 52,\n",
       "  'sigla': 'GO',\n",
       "  'nome': 'Goiás',\n",
       "  'regiao': {'id': 5, 'sigla': 'CO', 'nome': 'Centro-Oeste'}},\n",
       " {'id': 53,\n",
       "  'sigla': 'DF',\n",
       "  'nome': 'Distrito Federal',\n",
       "  'regiao': {'id': 5, 'sigla': 'CO', 'nome': 'Centro-Oeste'}}]"
      ]
     },
     "execution_count": 11,
     "metadata": {},
     "output_type": "execute_result"
    }
   ],
   "source": [
    "data_json"
   ]
  },
  {
   "cell_type": "code",
   "execution_count": 12,
   "metadata": {},
   "outputs": [],
   "source": [
    "import pandas as pd"
   ]
  },
  {
   "cell_type": "code",
   "execution_count": 13,
   "metadata": {},
   "outputs": [],
   "source": [
    "df = pd.DataFrame(data_json)"
   ]
  },
  {
   "cell_type": "code",
   "execution_count": 14,
   "metadata": {},
   "outputs": [
    {
     "data": {
      "text/html": [
       "<div>\n",
       "<style scoped>\n",
       "    .dataframe tbody tr th:only-of-type {\n",
       "        vertical-align: middle;\n",
       "    }\n",
       "\n",
       "    .dataframe tbody tr th {\n",
       "        vertical-align: top;\n",
       "    }\n",
       "\n",
       "    .dataframe thead th {\n",
       "        text-align: right;\n",
       "    }\n",
       "</style>\n",
       "<table border=\"1\" class=\"dataframe\">\n",
       "  <thead>\n",
       "    <tr style=\"text-align: right;\">\n",
       "      <th></th>\n",
       "      <th>id</th>\n",
       "      <th>sigla</th>\n",
       "      <th>nome</th>\n",
       "      <th>regiao</th>\n",
       "    </tr>\n",
       "  </thead>\n",
       "  <tbody>\n",
       "    <tr>\n",
       "      <th>0</th>\n",
       "      <td>11</td>\n",
       "      <td>RO</td>\n",
       "      <td>Rondônia</td>\n",
       "      <td>{'id': 1, 'sigla': 'N', 'nome': 'Norte'}</td>\n",
       "    </tr>\n",
       "    <tr>\n",
       "      <th>1</th>\n",
       "      <td>12</td>\n",
       "      <td>AC</td>\n",
       "      <td>Acre</td>\n",
       "      <td>{'id': 1, 'sigla': 'N', 'nome': 'Norte'}</td>\n",
       "    </tr>\n",
       "    <tr>\n",
       "      <th>2</th>\n",
       "      <td>13</td>\n",
       "      <td>AM</td>\n",
       "      <td>Amazonas</td>\n",
       "      <td>{'id': 1, 'sigla': 'N', 'nome': 'Norte'}</td>\n",
       "    </tr>\n",
       "    <tr>\n",
       "      <th>3</th>\n",
       "      <td>14</td>\n",
       "      <td>RR</td>\n",
       "      <td>Roraima</td>\n",
       "      <td>{'id': 1, 'sigla': 'N', 'nome': 'Norte'}</td>\n",
       "    </tr>\n",
       "    <tr>\n",
       "      <th>4</th>\n",
       "      <td>15</td>\n",
       "      <td>PA</td>\n",
       "      <td>Pará</td>\n",
       "      <td>{'id': 1, 'sigla': 'N', 'nome': 'Norte'}</td>\n",
       "    </tr>\n",
       "  </tbody>\n",
       "</table>\n",
       "</div>"
      ],
      "text/plain": [
       "   id sigla      nome                                    regiao\n",
       "0  11    RO  Rondônia  {'id': 1, 'sigla': 'N', 'nome': 'Norte'}\n",
       "1  12    AC      Acre  {'id': 1, 'sigla': 'N', 'nome': 'Norte'}\n",
       "2  13    AM  Amazonas  {'id': 1, 'sigla': 'N', 'nome': 'Norte'}\n",
       "3  14    RR   Roraima  {'id': 1, 'sigla': 'N', 'nome': 'Norte'}\n",
       "4  15    PA      Pará  {'id': 1, 'sigla': 'N', 'nome': 'Norte'}"
      ]
     },
     "execution_count": 14,
     "metadata": {},
     "output_type": "execute_result"
    }
   ],
   "source": [
    "df.head()"
   ]
  },
  {
   "cell_type": "code",
   "execution_count": 27,
   "metadata": {},
   "outputs": [],
   "source": [
    "sigla_regiao = [sr['sigla'] for sr in df['regiao']]\n",
    "nome_regiao = [nr['nome'] for nr in df['regiao']]\n",
    "sigla_estado = [estado for estado in df['sigla']]\n",
    "nome_estado = [estado for estado in df['nome']]"
   ]
  },
  {
   "cell_type": "code",
   "execution_count": 28,
   "metadata": {},
   "outputs": [],
   "source": [
    "df_estados = pd.DataFrame({'Sigla': sigla_estado, 'Nome': nome_estado, 'Sigla Região': sigla_regiao, 'Nome Região': nome_regiao})"
   ]
  },
  {
   "cell_type": "code",
   "execution_count": 29,
   "metadata": {},
   "outputs": [
    {
     "data": {
      "text/html": [
       "<div>\n",
       "<style scoped>\n",
       "    .dataframe tbody tr th:only-of-type {\n",
       "        vertical-align: middle;\n",
       "    }\n",
       "\n",
       "    .dataframe tbody tr th {\n",
       "        vertical-align: top;\n",
       "    }\n",
       "\n",
       "    .dataframe thead th {\n",
       "        text-align: right;\n",
       "    }\n",
       "</style>\n",
       "<table border=\"1\" class=\"dataframe\">\n",
       "  <thead>\n",
       "    <tr style=\"text-align: right;\">\n",
       "      <th></th>\n",
       "      <th>Sigla</th>\n",
       "      <th>Nome</th>\n",
       "      <th>Sigla Região</th>\n",
       "      <th>Nome Região</th>\n",
       "    </tr>\n",
       "  </thead>\n",
       "  <tbody>\n",
       "    <tr>\n",
       "      <th>0</th>\n",
       "      <td>RO</td>\n",
       "      <td>Rondônia</td>\n",
       "      <td>N</td>\n",
       "      <td>Norte</td>\n",
       "    </tr>\n",
       "    <tr>\n",
       "      <th>1</th>\n",
       "      <td>AC</td>\n",
       "      <td>Acre</td>\n",
       "      <td>N</td>\n",
       "      <td>Norte</td>\n",
       "    </tr>\n",
       "    <tr>\n",
       "      <th>2</th>\n",
       "      <td>AM</td>\n",
       "      <td>Amazonas</td>\n",
       "      <td>N</td>\n",
       "      <td>Norte</td>\n",
       "    </tr>\n",
       "    <tr>\n",
       "      <th>3</th>\n",
       "      <td>RR</td>\n",
       "      <td>Roraima</td>\n",
       "      <td>N</td>\n",
       "      <td>Norte</td>\n",
       "    </tr>\n",
       "    <tr>\n",
       "      <th>4</th>\n",
       "      <td>PA</td>\n",
       "      <td>Pará</td>\n",
       "      <td>N</td>\n",
       "      <td>Norte</td>\n",
       "    </tr>\n",
       "  </tbody>\n",
       "</table>\n",
       "</div>"
      ],
      "text/plain": [
       "  Sigla      Nome Sigla Região Nome Região\n",
       "0    RO  Rondônia            N       Norte\n",
       "1    AC      Acre            N       Norte\n",
       "2    AM  Amazonas            N       Norte\n",
       "3    RR   Roraima            N       Norte\n",
       "4    PA      Pará            N       Norte"
      ]
     },
     "execution_count": 29,
     "metadata": {},
     "output_type": "execute_result"
    }
   ],
   "source": [
    "df_estados.head()"
   ]
  },
  {
   "cell_type": "code",
   "execution_count": 32,
   "metadata": {},
   "outputs": [],
   "source": [
    "requisicao1 = requests.get('https://brasilapi.com.br/api/ibge/municipios/v1/sp?providers=dados-abertos-br,gov,wikipedia')"
   ]
  },
  {
   "cell_type": "code",
   "execution_count": 33,
   "metadata": {},
   "outputs": [
    {
     "data": {
      "text/plain": [
       "200"
      ]
     },
     "execution_count": 33,
     "metadata": {},
     "output_type": "execute_result"
    }
   ],
   "source": [
    "requisicao1.status_code"
   ]
  },
  {
   "cell_type": "code",
   "execution_count": 35,
   "metadata": {},
   "outputs": [],
   "source": [
    "data_json1 = requisicao1.json()"
   ]
  },
  {
   "cell_type": "code",
   "execution_count": 38,
   "metadata": {},
   "outputs": [],
   "source": [
    "df_municipios_sp = pd.DataFrame(data_json1)"
   ]
  },
  {
   "cell_type": "code",
   "execution_count": 40,
   "metadata": {},
   "outputs": [
    {
     "data": {
      "text/html": [
       "<div>\n",
       "<style scoped>\n",
       "    .dataframe tbody tr th:only-of-type {\n",
       "        vertical-align: middle;\n",
       "    }\n",
       "\n",
       "    .dataframe tbody tr th {\n",
       "        vertical-align: top;\n",
       "    }\n",
       "\n",
       "    .dataframe thead th {\n",
       "        text-align: right;\n",
       "    }\n",
       "</style>\n",
       "<table border=\"1\" class=\"dataframe\">\n",
       "  <thead>\n",
       "    <tr style=\"text-align: right;\">\n",
       "      <th></th>\n",
       "      <th>nome</th>\n",
       "      <th>codigo_ibge</th>\n",
       "    </tr>\n",
       "  </thead>\n",
       "  <tbody>\n",
       "    <tr>\n",
       "      <th>0</th>\n",
       "      <td>ADAMANTINA</td>\n",
       "      <td>3500105</td>\n",
       "    </tr>\n",
       "    <tr>\n",
       "      <th>1</th>\n",
       "      <td>ADOLFO</td>\n",
       "      <td>3500204</td>\n",
       "    </tr>\n",
       "    <tr>\n",
       "      <th>2</th>\n",
       "      <td>AGUAÍ</td>\n",
       "      <td>3500303</td>\n",
       "    </tr>\n",
       "    <tr>\n",
       "      <th>3</th>\n",
       "      <td>ÁGUAS DA PRATA</td>\n",
       "      <td>3500402</td>\n",
       "    </tr>\n",
       "    <tr>\n",
       "      <th>4</th>\n",
       "      <td>ÁGUAS DE LINDÓIA</td>\n",
       "      <td>3500501</td>\n",
       "    </tr>\n",
       "  </tbody>\n",
       "</table>\n",
       "</div>"
      ],
      "text/plain": [
       "               nome codigo_ibge\n",
       "0        ADAMANTINA     3500105\n",
       "1            ADOLFO     3500204\n",
       "2             AGUAÍ     3500303\n",
       "3    ÁGUAS DA PRATA     3500402\n",
       "4  ÁGUAS DE LINDÓIA     3500501"
      ]
     },
     "execution_count": 40,
     "metadata": {},
     "output_type": "execute_result"
    }
   ],
   "source": [
    "df_municipios_sp.head()"
   ]
  },
  {
   "cell_type": "code",
   "execution_count": 41,
   "metadata": {},
   "outputs": [],
   "source": [
    "requisicao2 = requests.get('https://brasilapi.com.br/api/ibge/uf/v1/sp')"
   ]
  },
  {
   "cell_type": "code",
   "execution_count": 42,
   "metadata": {},
   "outputs": [
    {
     "data": {
      "text/plain": [
       "200"
      ]
     },
     "execution_count": 42,
     "metadata": {},
     "output_type": "execute_result"
    }
   ],
   "source": [
    "requisicao2.status_code"
   ]
  },
  {
   "cell_type": "code",
   "execution_count": 43,
   "metadata": {},
   "outputs": [],
   "source": [
    "data_json2 = requisicao2.json()"
   ]
  },
  {
   "cell_type": "code",
   "execution_count": 44,
   "metadata": {},
   "outputs": [],
   "source": [
    "df_estado_sp = pd.DataFrame(data_json2)"
   ]
  },
  {
   "cell_type": "code",
   "execution_count": 45,
   "metadata": {},
   "outputs": [
    {
     "data": {
      "text/html": [
       "<div>\n",
       "<style scoped>\n",
       "    .dataframe tbody tr th:only-of-type {\n",
       "        vertical-align: middle;\n",
       "    }\n",
       "\n",
       "    .dataframe tbody tr th {\n",
       "        vertical-align: top;\n",
       "    }\n",
       "\n",
       "    .dataframe thead th {\n",
       "        text-align: right;\n",
       "    }\n",
       "</style>\n",
       "<table border=\"1\" class=\"dataframe\">\n",
       "  <thead>\n",
       "    <tr style=\"text-align: right;\">\n",
       "      <th></th>\n",
       "      <th>id</th>\n",
       "      <th>sigla</th>\n",
       "      <th>nome</th>\n",
       "      <th>regiao</th>\n",
       "    </tr>\n",
       "  </thead>\n",
       "  <tbody>\n",
       "    <tr>\n",
       "      <th>id</th>\n",
       "      <td>35</td>\n",
       "      <td>SP</td>\n",
       "      <td>São Paulo</td>\n",
       "      <td>3</td>\n",
       "    </tr>\n",
       "    <tr>\n",
       "      <th>nome</th>\n",
       "      <td>35</td>\n",
       "      <td>SP</td>\n",
       "      <td>São Paulo</td>\n",
       "      <td>Sudeste</td>\n",
       "    </tr>\n",
       "    <tr>\n",
       "      <th>sigla</th>\n",
       "      <td>35</td>\n",
       "      <td>SP</td>\n",
       "      <td>São Paulo</td>\n",
       "      <td>SE</td>\n",
       "    </tr>\n",
       "  </tbody>\n",
       "</table>\n",
       "</div>"
      ],
      "text/plain": [
       "       id sigla       nome   regiao\n",
       "id     35    SP  São Paulo        3\n",
       "nome   35    SP  São Paulo  Sudeste\n",
       "sigla  35    SP  São Paulo       SE"
      ]
     },
     "execution_count": 45,
     "metadata": {},
     "output_type": "execute_result"
    }
   ],
   "source": [
    "df_estado_sp.head()"
   ]
  },
  {
   "cell_type": "markdown",
   "metadata": {},
   "source": [
    "Resultados: 3 tabelas extraídas"
   ]
  },
  {
   "cell_type": "markdown",
   "metadata": {},
   "source": [
    "Fontes:\n",
    "\n",
    "https://brasilapi.com.br/api/ibge/uf/v1\n",
    "https://brasilapi.com.br/api/ibge/municipios/v1/sp?providers=dados-abertos-br,gov,wikipedia\n",
    "https://brasilapi.com.br/api/ibge/uf/v1/sp\n"
   ]
  },
  {
   "cell_type": "code",
   "execution_count": null,
   "metadata": {},
   "outputs": [],
   "source": [
    "df_estados\n",
    "df_municipios_sp\n",
    "df_estado_sp"
   ]
  },
  {
   "cell_type": "code",
   "execution_count": 48,
   "metadata": {},
   "outputs": [],
   "source": [
    "from plyer import notification\n",
    "from datetime import datetime"
   ]
  },
  {
   "cell_type": "code",
   "execution_count": 59,
   "metadata": {},
   "outputs": [],
   "source": [
    "data = str(datetime.now())\n",
    "def alerta(status_code,base):\n",
    "    if status_code >= 500:\n",
    "        mensagem = 'Erro no servidor'\n",
    "    elif status_code >= 400:\n",
    "        mensagem = 'Erro na requisição'\n",
    "    elif status_code == 200:\n",
    "        mensagem = 'Requisição concluída com sucesso'\n",
    "    else:\n",
    "        print ('Outros tipos de erro')\n",
    "    notification.notify(\n",
    "    title=f'ATENÇÃO: {mensagem}'\n",
    "    , message = str('Carregamento da base %s. \\n %s' % (base,data))\n",
    "    , app_name=''\n",
    "    , timeout=10)"
   ]
  },
  {
   "cell_type": "code",
   "execution_count": 60,
   "metadata": {},
   "outputs": [],
   "source": [
    "status_code = requisicao2.status_code\n",
    "base = 'estado sp'\n",
    "alerta(status_code,base)  "
   ]
  },
  {
   "cell_type": "code",
   "execution_count": 61,
   "metadata": {},
   "outputs": [],
   "source": [
    "requisicao3 = requests.get('https://brasilapi.com.br/api/ibge/municipios/v1/{code}?providers=dados-abertos-br,gov,wikipedia')\n",
    "status_code = requisicao3.status_code\n",
    "base = 'municipios'\n",
    "alerta(status_code,base)"
   ]
  }
 ],
 "metadata": {
  "kernelspec": {
   "display_name": "Python 3",
   "language": "python",
   "name": "python3"
  },
  "language_info": {
   "codemirror_mode": {
    "name": "ipython",
    "version": 3
   },
   "file_extension": ".py",
   "mimetype": "text/x-python",
   "name": "python",
   "nbconvert_exporter": "python",
   "pygments_lexer": "ipython3",
   "version": "3.11.4"
  },
  "orig_nbformat": 4
 },
 "nbformat": 4,
 "nbformat_minor": 2
}
