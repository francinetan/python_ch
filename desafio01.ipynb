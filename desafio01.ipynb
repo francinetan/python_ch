{
 "cells": [
  {
   "cell_type": "code",
   "execution_count": 2,
   "metadata": {},
   "outputs": [],
   "source": [
    "from plyer import notification\n",
    "from datetime import datetime"
   ]
  },
  {
   "cell_type": "code",
   "execution_count": 3,
   "metadata": {},
   "outputs": [],
   "source": [
    "data = str(datetime.now())\n",
    "def alerta(nivel,base,etapa):\n",
    " \n",
    "    if nivel == 1:\n",
    "        notification.notify(\n",
    "        title='ATENÇÃO: Alerta Baixo'\n",
    "        , message = str('Falha no carregamento da base %s na etapa %s. \\n %s' % (base,etapa,data))\n",
    "        , app_name=''\n",
    "        , timeout=10)\n",
    "    elif nivel == 2:\n",
    "        notification.notify(\n",
    "        title='ATENÇÃO: Alerta Médio'\n",
    "        , message = str('Falha no carregamento da base %s na etapa %s. \\n %s' % (base,etapa,data))\n",
    "        , app_name=''\n",
    "        , timeout=10)\n",
    "    elif nivel == 3:\n",
    "        notification.notify(\n",
    "        title='ATENÇÃO: Alerta Alto'\n",
    "        , message = str('Falha no carregamento da base %s na etapa %s. \\n %s' % (base,etapa,data))\n",
    "        , app_name=''\n",
    "        , timeout=10)\n",
    "    else:\n",
    "        print ('Por favor, insira um valor de nível entre 1 e 3')"
   ]
  },
  {
   "cell_type": "code",
   "execution_count": null,
   "metadata": {},
   "outputs": [],
   "source": [
    "alerta(1,\"CLIENTES\",\"EXTRACAO\")"
   ]
  }
 ],
 "metadata": {
  "kernelspec": {
   "display_name": "Python 3",
   "language": "python",
   "name": "python3"
  },
  "language_info": {
   "codemirror_mode": {
    "name": "ipython",
    "version": 3
   },
   "file_extension": ".py",
   "mimetype": "text/x-python",
   "name": "python",
   "nbconvert_exporter": "python",
   "pygments_lexer": "ipython3",
   "version": "3.11.4"
  },
  "orig_nbformat": 4
 },
 "nbformat": 4,
 "nbformat_minor": 2
}
