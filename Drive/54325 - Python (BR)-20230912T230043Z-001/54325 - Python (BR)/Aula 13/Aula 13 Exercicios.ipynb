{
 "cells": [
  {
   "attachments": {},
   "cell_type": "markdown",
   "metadata": {},
   "source": [
    "# Data Wrangling I\n",
    "## Exercicios em Sala\n",
    "https://www.kaggle.com/datasets/ahmedshahriarsakib/usa-real-estate-dataset?resource=download\n",
    "\n",
    "Utilizando a base \"realtor-data.csv\" gerar uma amostra com os seguintes requisitos: \n",
    " - amostra aleatória\n",
    " - com 1.000 registros, sendo:\n",
    "   - 250 do estado de Massachusetts\n",
    "   - 250 do estado de Puerto Rico\n",
    "   - 250 do estado de Connecticut       \n",
    "   - 250 dos estados Rhode Island e New York\n",
    " - somente casas for_sale\n",
    " - sem duplicidades de status, city, state e price\n",
    "   - na remoção de duplicados priorizar as casas maiores. \n",
    "   \n",
    "Valide a amostra criada.\n",
    "\n",
    "\n"
   ]
  },
  {
   "cell_type": "code",
   "execution_count": 2,
   "metadata": {},
   "outputs": [],
   "source": [
    "import pandas as pd\n",
    "import numpy as np\n"
   ]
  },
  {
   "cell_type": "code",
   "execution_count": 5,
   "metadata": {},
   "outputs": [
    {
     "data": {
      "text/html": [
       "<div>\n",
       "<style scoped>\n",
       "    .dataframe tbody tr th:only-of-type {\n",
       "        vertical-align: middle;\n",
       "    }\n",
       "\n",
       "    .dataframe tbody tr th {\n",
       "        vertical-align: top;\n",
       "    }\n",
       "\n",
       "    .dataframe thead th {\n",
       "        text-align: right;\n",
       "    }\n",
       "</style>\n",
       "<table border=\"1\" class=\"dataframe\">\n",
       "  <thead>\n",
       "    <tr style=\"text-align: right;\">\n",
       "      <th></th>\n",
       "      <th>status</th>\n",
       "      <th>bed</th>\n",
       "      <th>bath</th>\n",
       "      <th>acre_lot</th>\n",
       "      <th>city</th>\n",
       "      <th>state</th>\n",
       "      <th>zip_code</th>\n",
       "      <th>house_size</th>\n",
       "      <th>prev_sold_date</th>\n",
       "      <th>price</th>\n",
       "    </tr>\n",
       "  </thead>\n",
       "  <tbody>\n",
       "    <tr>\n",
       "      <th>0</th>\n",
       "      <td>for_sale</td>\n",
       "      <td>3.0</td>\n",
       "      <td>2.0</td>\n",
       "      <td>0.12</td>\n",
       "      <td>Adjuntas</td>\n",
       "      <td>Puerto Rico</td>\n",
       "      <td>601.0</td>\n",
       "      <td>920.0</td>\n",
       "      <td>NaN</td>\n",
       "      <td>105000.0</td>\n",
       "    </tr>\n",
       "    <tr>\n",
       "      <th>1</th>\n",
       "      <td>for_sale</td>\n",
       "      <td>4.0</td>\n",
       "      <td>2.0</td>\n",
       "      <td>0.08</td>\n",
       "      <td>Adjuntas</td>\n",
       "      <td>Puerto Rico</td>\n",
       "      <td>601.0</td>\n",
       "      <td>1527.0</td>\n",
       "      <td>NaN</td>\n",
       "      <td>80000.0</td>\n",
       "    </tr>\n",
       "    <tr>\n",
       "      <th>2</th>\n",
       "      <td>for_sale</td>\n",
       "      <td>2.0</td>\n",
       "      <td>1.0</td>\n",
       "      <td>0.15</td>\n",
       "      <td>Juana Diaz</td>\n",
       "      <td>Puerto Rico</td>\n",
       "      <td>795.0</td>\n",
       "      <td>748.0</td>\n",
       "      <td>NaN</td>\n",
       "      <td>67000.0</td>\n",
       "    </tr>\n",
       "  </tbody>\n",
       "</table>\n",
       "</div>"
      ],
      "text/plain": [
       "     status  bed  bath  acre_lot        city        state  zip_code  \\\n",
       "0  for_sale  3.0   2.0      0.12    Adjuntas  Puerto Rico     601.0   \n",
       "1  for_sale  4.0   2.0      0.08    Adjuntas  Puerto Rico     601.0   \n",
       "2  for_sale  2.0   1.0      0.15  Juana Diaz  Puerto Rico     795.0   \n",
       "\n",
       "   house_size prev_sold_date     price  \n",
       "0       920.0            NaN  105000.0  \n",
       "1      1527.0            NaN   80000.0  \n",
       "2       748.0            NaN   67000.0  "
      ]
     },
     "execution_count": 5,
     "metadata": {},
     "output_type": "execute_result"
    }
   ],
   "source": [
    "realtor = pd.read_csv(\"realtor-data.csv\")\n",
    "realtor.head(3)"
   ]
  },
  {
   "attachments": {},
   "cell_type": "markdown",
   "metadata": {},
   "source": [
    "# Analises"
   ]
  },
  {
   "cell_type": "code",
   "execution_count": 6,
   "metadata": {},
   "outputs": [
    {
     "name": "stdout",
     "output_type": "stream",
     "text": [
      "<class 'pandas.core.frame.DataFrame'>\n",
      "RangeIndex: 100000 entries, 0 to 99999\n",
      "Data columns (total 10 columns):\n",
      " #   Column          Non-Null Count   Dtype  \n",
      "---  ------          --------------   -----  \n",
      " 0   status          100000 non-null  object \n",
      " 1   bed             75050 non-null   float64\n",
      " 2   bath            75112 non-null   float64\n",
      " 3   acre_lot        85987 non-null   float64\n",
      " 4   city            99948 non-null   object \n",
      " 5   state           100000 non-null  object \n",
      " 6   zip_code        99805 non-null   float64\n",
      " 7   house_size      75082 non-null   float64\n",
      " 8   prev_sold_date  28745 non-null   object \n",
      " 9   price           100000 non-null  float64\n",
      "dtypes: float64(6), object(4)\n",
      "memory usage: 7.6+ MB\n"
     ]
    }
   ],
   "source": [
    "realtor.info()"
   ]
  },
  {
   "cell_type": "code",
   "execution_count": 10,
   "metadata": {},
   "outputs": [
    {
     "name": "stdout",
     "output_type": "stream",
     "text": [
      "status\n",
      "for_sale          99819\n",
      "ready_to_build      181\n",
      "Name: price, dtype: int64\n",
      "state\n",
      "Connecticut       12178\n",
      "Massachusetts     52694\n",
      "New Hampshire      2232\n",
      "New Jersey            2\n",
      "New York           1874\n",
      "Puerto Rico       24679\n",
      "Rhode Island       2401\n",
      "South Carolina       24\n",
      "Tennessee            16\n",
      "Vermont            1324\n",
      "Virgin Islands     2573\n",
      "Virginia              3\n",
      "Name: price, dtype: int64\n"
     ]
    }
   ],
   "source": [
    "print(realtor.groupby('status').count()['price'])\n",
    "print(realtor.groupby('state').count()['price'])"
   ]
  },
  {
   "attachments": {},
   "cell_type": "markdown",
   "metadata": {},
   "source": [
    "# Amostra"
   ]
  },
  {
   "cell_type": "code",
   "execution_count": 43,
   "metadata": {},
   "outputs": [
    {
     "data": {
      "text/plain": [
       "(100000, 10)"
      ]
     },
     "execution_count": 43,
     "metadata": {},
     "output_type": "execute_result"
    }
   ],
   "source": [
    "realtor.shape"
   ]
  },
  {
   "cell_type": "code",
   "execution_count": 51,
   "metadata": {},
   "outputs": [
    {
     "name": "stdout",
     "output_type": "stream",
     "text": [
      "(99819, 10)\n"
     ]
    }
   ],
   "source": [
    "#filtro for_sale\n",
    "realtor_fs = realtor[realtor.status == 'for_sale']\n",
    "print(realtor_fs.shape)"
   ]
  },
  {
   "cell_type": "code",
   "execution_count": 52,
   "metadata": {},
   "outputs": [
    {
     "data": {
      "text/plain": [
       "(12067, 10)"
      ]
     },
     "execution_count": 52,
     "metadata": {},
     "output_type": "execute_result"
    }
   ],
   "source": [
    "#remocao de duplicidades\n",
    "realtor_dup = realtor_fs.sort_values(['house_size'])\n",
    "realtor_dup = realtor_dup.drop_duplicates(['status','city','state','price'],keep='last')\n",
    "realtor_dup.shape"
   ]
  },
  {
   "cell_type": "code",
   "execution_count": 53,
   "metadata": {},
   "outputs": [
    {
     "name": "stdout",
     "output_type": "stream",
     "text": [
      "(3349, 10)\n",
      "(2207, 10)\n",
      "(3111, 10)\n",
      "(2149, 10)\n"
     ]
    }
   ],
   "source": [
    "# Filtrar os estados\n",
    "massachusetts         = realtor_dup[realtor_dup[\"state\"] == \"Massachusetts\"]\n",
    "puerto_rico           = realtor_dup[realtor_dup[\"state\"] == \"Puerto Rico\"]\n",
    "connecticut           = realtor_dup[realtor_dup[\"state\"] == \"Connecticut\"]\n",
    "rhode_island_new_york = realtor_dup[realtor_dup[\"state\"].isin([\"Rhode Island\", \"New York\"])]\n",
    "\n",
    "print(massachusetts.shape)\n",
    "print(puerto_rico.shape)\n",
    "print(connecticut.shape)\n",
    "print(rhode_island_new_york.shape)"
   ]
  },
  {
   "cell_type": "code",
   "execution_count": 55,
   "metadata": {},
   "outputs": [],
   "source": [
    "# Amostra aleatoria \n",
    "massachusetts_sample         = massachusetts.sample(n=250, random_state=42)\n",
    "puerto_rico_sample           = puerto_rico.sample(n=250, random_state=42)\n",
    "connecticut_sample           = connecticut.sample(n=250, random_state=42)\n",
    "rhode_island_new_york_sample = rhode_island_new_york.sample(n=250, random_state=42)"
   ]
  },
  {
   "cell_type": "code",
   "execution_count": 56,
   "metadata": {},
   "outputs": [
    {
     "data": {
      "text/html": [
       "<div>\n",
       "<style scoped>\n",
       "    .dataframe tbody tr th:only-of-type {\n",
       "        vertical-align: middle;\n",
       "    }\n",
       "\n",
       "    .dataframe tbody tr th {\n",
       "        vertical-align: top;\n",
       "    }\n",
       "\n",
       "    .dataframe thead th {\n",
       "        text-align: right;\n",
       "    }\n",
       "</style>\n",
       "<table border=\"1\" class=\"dataframe\">\n",
       "  <thead>\n",
       "    <tr style=\"text-align: right;\">\n",
       "      <th></th>\n",
       "      <th>status</th>\n",
       "      <th>bed</th>\n",
       "      <th>bath</th>\n",
       "      <th>acre_lot</th>\n",
       "      <th>city</th>\n",
       "      <th>state</th>\n",
       "      <th>zip_code</th>\n",
       "      <th>house_size</th>\n",
       "      <th>prev_sold_date</th>\n",
       "      <th>price</th>\n",
       "    </tr>\n",
       "  </thead>\n",
       "  <tbody>\n",
       "    <tr>\n",
       "      <th>32787</th>\n",
       "      <td>for_sale</td>\n",
       "      <td>4.0</td>\n",
       "      <td>4.0</td>\n",
       "      <td>0.97</td>\n",
       "      <td>East Longmeadow</td>\n",
       "      <td>Massachusetts</td>\n",
       "      <td>1028.0</td>\n",
       "      <td>3000.0</td>\n",
       "      <td>2006-09-28</td>\n",
       "      <td>739900.0</td>\n",
       "    </tr>\n",
       "    <tr>\n",
       "      <th>66560</th>\n",
       "      <td>for_sale</td>\n",
       "      <td>NaN</td>\n",
       "      <td>NaN</td>\n",
       "      <td>2.80</td>\n",
       "      <td>Otis</td>\n",
       "      <td>Massachusetts</td>\n",
       "      <td>1253.0</td>\n",
       "      <td>NaN</td>\n",
       "      <td>NaN</td>\n",
       "      <td>47500.0</td>\n",
       "    </tr>\n",
       "    <tr>\n",
       "      <th>83249</th>\n",
       "      <td>for_sale</td>\n",
       "      <td>2.0</td>\n",
       "      <td>3.0</td>\n",
       "      <td>NaN</td>\n",
       "      <td>Hopkinton</td>\n",
       "      <td>Massachusetts</td>\n",
       "      <td>1748.0</td>\n",
       "      <td>2463.0</td>\n",
       "      <td>NaN</td>\n",
       "      <td>979900.0</td>\n",
       "    </tr>\n",
       "    <tr>\n",
       "      <th>64610</th>\n",
       "      <td>for_sale</td>\n",
       "      <td>3.0</td>\n",
       "      <td>3.0</td>\n",
       "      <td>0.30</td>\n",
       "      <td>Great Barrington</td>\n",
       "      <td>Massachusetts</td>\n",
       "      <td>1230.0</td>\n",
       "      <td>2054.0</td>\n",
       "      <td>NaN</td>\n",
       "      <td>769000.0</td>\n",
       "    </tr>\n",
       "    <tr>\n",
       "      <th>87718</th>\n",
       "      <td>for_sale</td>\n",
       "      <td>NaN</td>\n",
       "      <td>NaN</td>\n",
       "      <td>2.00</td>\n",
       "      <td>Phillipston</td>\n",
       "      <td>Massachusetts</td>\n",
       "      <td>1331.0</td>\n",
       "      <td>NaN</td>\n",
       "      <td>NaN</td>\n",
       "      <td>45000.0</td>\n",
       "    </tr>\n",
       "    <tr>\n",
       "      <th>...</th>\n",
       "      <td>...</td>\n",
       "      <td>...</td>\n",
       "      <td>...</td>\n",
       "      <td>...</td>\n",
       "      <td>...</td>\n",
       "      <td>...</td>\n",
       "      <td>...</td>\n",
       "      <td>...</td>\n",
       "      <td>...</td>\n",
       "      <td>...</td>\n",
       "    </tr>\n",
       "    <tr>\n",
       "      <th>95370</th>\n",
       "      <td>for_sale</td>\n",
       "      <td>3.0</td>\n",
       "      <td>1.0</td>\n",
       "      <td>0.14</td>\n",
       "      <td>Glocester</td>\n",
       "      <td>Rhode Island</td>\n",
       "      <td>2814.0</td>\n",
       "      <td>1200.0</td>\n",
       "      <td>2004-09-02</td>\n",
       "      <td>139900.0</td>\n",
       "    </tr>\n",
       "    <tr>\n",
       "      <th>95325</th>\n",
       "      <td>for_sale</td>\n",
       "      <td>NaN</td>\n",
       "      <td>NaN</td>\n",
       "      <td>0.38</td>\n",
       "      <td>North Kingstown</td>\n",
       "      <td>Rhode Island</td>\n",
       "      <td>2852.0</td>\n",
       "      <td>NaN</td>\n",
       "      <td>NaN</td>\n",
       "      <td>181900.0</td>\n",
       "    </tr>\n",
       "    <tr>\n",
       "      <th>56903</th>\n",
       "      <td>for_sale</td>\n",
       "      <td>NaN</td>\n",
       "      <td>NaN</td>\n",
       "      <td>9.00</td>\n",
       "      <td>Kinderhook</td>\n",
       "      <td>New York</td>\n",
       "      <td>12106.0</td>\n",
       "      <td>NaN</td>\n",
       "      <td>NaN</td>\n",
       "      <td>225000.0</td>\n",
       "    </tr>\n",
       "    <tr>\n",
       "      <th>81781</th>\n",
       "      <td>for_sale</td>\n",
       "      <td>12.0</td>\n",
       "      <td>4.0</td>\n",
       "      <td>0.12</td>\n",
       "      <td>Woonsocket</td>\n",
       "      <td>Rhode Island</td>\n",
       "      <td>2895.0</td>\n",
       "      <td>6307.0</td>\n",
       "      <td>2018-03-15</td>\n",
       "      <td>399900.0</td>\n",
       "    </tr>\n",
       "    <tr>\n",
       "      <th>95630</th>\n",
       "      <td>for_sale</td>\n",
       "      <td>3.0</td>\n",
       "      <td>2.0</td>\n",
       "      <td>0.18</td>\n",
       "      <td>Warwick</td>\n",
       "      <td>Rhode Island</td>\n",
       "      <td>2889.0</td>\n",
       "      <td>3186.0</td>\n",
       "      <td>NaN</td>\n",
       "      <td>275000.0</td>\n",
       "    </tr>\n",
       "  </tbody>\n",
       "</table>\n",
       "<p>1000 rows × 10 columns</p>\n",
       "</div>"
      ],
      "text/plain": [
       "         status   bed  bath  acre_lot              city          state  \\\n",
       "32787  for_sale   4.0   4.0      0.97   East Longmeadow  Massachusetts   \n",
       "66560  for_sale   NaN   NaN      2.80              Otis  Massachusetts   \n",
       "83249  for_sale   2.0   3.0       NaN         Hopkinton  Massachusetts   \n",
       "64610  for_sale   3.0   3.0      0.30  Great Barrington  Massachusetts   \n",
       "87718  for_sale   NaN   NaN      2.00       Phillipston  Massachusetts   \n",
       "...         ...   ...   ...       ...               ...            ...   \n",
       "95370  for_sale   3.0   1.0      0.14         Glocester   Rhode Island   \n",
       "95325  for_sale   NaN   NaN      0.38   North Kingstown   Rhode Island   \n",
       "56903  for_sale   NaN   NaN      9.00        Kinderhook       New York   \n",
       "81781  for_sale  12.0   4.0      0.12        Woonsocket   Rhode Island   \n",
       "95630  for_sale   3.0   2.0      0.18           Warwick   Rhode Island   \n",
       "\n",
       "       zip_code  house_size prev_sold_date     price  \n",
       "32787    1028.0      3000.0     2006-09-28  739900.0  \n",
       "66560    1253.0         NaN            NaN   47500.0  \n",
       "83249    1748.0      2463.0            NaN  979900.0  \n",
       "64610    1230.0      2054.0            NaN  769000.0  \n",
       "87718    1331.0         NaN            NaN   45000.0  \n",
       "...         ...         ...            ...       ...  \n",
       "95370    2814.0      1200.0     2004-09-02  139900.0  \n",
       "95325    2852.0         NaN            NaN  181900.0  \n",
       "56903   12106.0         NaN            NaN  225000.0  \n",
       "81781    2895.0      6307.0     2018-03-15  399900.0  \n",
       "95630    2889.0      3186.0            NaN  275000.0  \n",
       "\n",
       "[1000 rows x 10 columns]"
      ]
     },
     "execution_count": 56,
     "metadata": {},
     "output_type": "execute_result"
    }
   ],
   "source": [
    "# Concatenar as amostras \n",
    "amostra = pd.concat([massachusetts_sample, \n",
    "                     puerto_rico_sample, \n",
    "                     connecticut_sample, \n",
    "                     rhode_island_new_york_sample])\n",
    "\n",
    "amostra"
   ]
  },
  {
   "attachments": {},
   "cell_type": "markdown",
   "metadata": {},
   "source": [
    "# Validação"
   ]
  },
  {
   "cell_type": "code",
   "execution_count": 57,
   "metadata": {},
   "outputs": [
    {
     "data": {
      "text/html": [
       "<div>\n",
       "<style scoped>\n",
       "    .dataframe tbody tr th:only-of-type {\n",
       "        vertical-align: middle;\n",
       "    }\n",
       "\n",
       "    .dataframe tbody tr th {\n",
       "        vertical-align: top;\n",
       "    }\n",
       "\n",
       "    .dataframe thead th {\n",
       "        text-align: right;\n",
       "    }\n",
       "</style>\n",
       "<table border=\"1\" class=\"dataframe\">\n",
       "  <thead>\n",
       "    <tr style=\"text-align: right;\">\n",
       "      <th></th>\n",
       "      <th></th>\n",
       "      <th>price</th>\n",
       "    </tr>\n",
       "    <tr>\n",
       "      <th>status</th>\n",
       "      <th>state</th>\n",
       "      <th></th>\n",
       "    </tr>\n",
       "  </thead>\n",
       "  <tbody>\n",
       "    <tr>\n",
       "      <th rowspan=\"5\" valign=\"top\">for_sale</th>\n",
       "      <th>Connecticut</th>\n",
       "      <td>250</td>\n",
       "    </tr>\n",
       "    <tr>\n",
       "      <th>Massachusetts</th>\n",
       "      <td>250</td>\n",
       "    </tr>\n",
       "    <tr>\n",
       "      <th>New York</th>\n",
       "      <td>84</td>\n",
       "    </tr>\n",
       "    <tr>\n",
       "      <th>Puerto Rico</th>\n",
       "      <td>250</td>\n",
       "    </tr>\n",
       "    <tr>\n",
       "      <th>Rhode Island</th>\n",
       "      <td>166</td>\n",
       "    </tr>\n",
       "  </tbody>\n",
       "</table>\n",
       "</div>"
      ],
      "text/plain": [
       "                        price\n",
       "status   state               \n",
       "for_sale Connecticut      250\n",
       "         Massachusetts    250\n",
       "         New York          84\n",
       "         Puerto Rico      250\n",
       "         Rhode Island     166"
      ]
     },
     "execution_count": 57,
     "metadata": {},
     "output_type": "execute_result"
    }
   ],
   "source": [
    "# Validacao\n",
    "amostra.groupby(['status','state']).count()[['price']]"
   ]
  },
  {
   "cell_type": "code",
   "execution_count": 59,
   "metadata": {},
   "outputs": [
    {
     "name": "stdout",
     "output_type": "stream",
     "text": [
      "(1000, 10)\n"
     ]
    },
    {
     "data": {
      "text/plain": [
       "(1000, 10)"
      ]
     },
     "execution_count": 59,
     "metadata": {},
     "output_type": "execute_result"
    }
   ],
   "source": [
    "print(amostra.shape)\n",
    "amostra.drop_duplicates(['status','city','state','price']).shape"
   ]
  },
  {
   "cell_type": "code",
   "execution_count": null,
   "metadata": {},
   "outputs": [],
   "source": []
  }
 ],
 "metadata": {
  "kernelspec": {
   "display_name": "Python 3",
   "language": "python",
   "name": "python3"
  },
  "language_info": {
   "codemirror_mode": {
    "name": "ipython",
    "version": 3
   },
   "file_extension": ".py",
   "mimetype": "text/x-python",
   "name": "python",
   "nbconvert_exporter": "python",
   "pygments_lexer": "ipython3",
   "version": "3.10.8"
  },
  "orig_nbformat": 4,
  "vscode": {
   "interpreter": {
    "hash": "9f8688d2bc69c748babb560adc9158621fb8aef49546882c3e4c6326402dd0cc"
   }
  }
 },
 "nbformat": 4,
 "nbformat_minor": 2
}
