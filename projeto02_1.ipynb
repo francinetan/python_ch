{
 "cells": [
  {
   "cell_type": "code",
   "execution_count": 6,
   "metadata": {},
   "outputs": [],
   "source": [
    "import requests\n",
    "import pandas as pd\n",
    "from plyer import notification\n",
    "from datetime import datetime\n",
    "import sqlite3"
   ]
  },
  {
   "cell_type": "code",
   "execution_count": 7,
   "metadata": {},
   "outputs": [],
   "source": [
    "def extracao(url,base):\n",
    "    data = str(datetime.now())\n",
    "    req = requests.get(url)\n",
    "    status_code = req.status_code\n",
    "    data_json = req.json()\n",
    "    if status_code == 200:\n",
    "        base = pd.DataFrame(data_json)\n",
    "        return(base)\n",
    "    elif status_code >= 400:\n",
    "        message = 'Erro na requisição'\n",
    "    elif status_code == 200:\n",
    "        message = 'Requisição concluída com sucesso'\n",
    "    else:\n",
    "        print ('Outros tipos de erro')\n",
    "    notification.notify(\n",
    "    title=f'ATENÇÃO: {message}'\n",
    "    , message = str('Carregamento da base %s. \\n %s' % (base,data))\n",
    "    , app_name=''\n",
    "    , timeout=10)\n"
   ]
  },
  {
   "cell_type": "code",
   "execution_count": 9,
   "metadata": {},
   "outputs": [],
   "source": [
    "base_municipios = extracao('https://brasilapi.com.br/api/ibge/municipios/v1/sp?providers=dados-abertos-br,gov,wikipedia','base_municipios')"
   ]
  },
  {
   "cell_type": "code",
   "execution_count": 10,
   "metadata": {},
   "outputs": [
    {
     "data": {
      "text/html": [
       "<div>\n",
       "<style scoped>\n",
       "    .dataframe tbody tr th:only-of-type {\n",
       "        vertical-align: middle;\n",
       "    }\n",
       "\n",
       "    .dataframe tbody tr th {\n",
       "        vertical-align: top;\n",
       "    }\n",
       "\n",
       "    .dataframe thead th {\n",
       "        text-align: right;\n",
       "    }\n",
       "</style>\n",
       "<table border=\"1\" class=\"dataframe\">\n",
       "  <thead>\n",
       "    <tr style=\"text-align: right;\">\n",
       "      <th></th>\n",
       "      <th>nome</th>\n",
       "      <th>codigo_ibge</th>\n",
       "    </tr>\n",
       "  </thead>\n",
       "  <tbody>\n",
       "    <tr>\n",
       "      <th>0</th>\n",
       "      <td>ADAMANTINA</td>\n",
       "      <td>3500105</td>\n",
       "    </tr>\n",
       "    <tr>\n",
       "      <th>1</th>\n",
       "      <td>ADOLFO</td>\n",
       "      <td>3500204</td>\n",
       "    </tr>\n",
       "    <tr>\n",
       "      <th>2</th>\n",
       "      <td>AGUAI</td>\n",
       "      <td>3500303</td>\n",
       "    </tr>\n",
       "    <tr>\n",
       "      <th>3</th>\n",
       "      <td>AGUAS DA PRATA</td>\n",
       "      <td>3500402</td>\n",
       "    </tr>\n",
       "    <tr>\n",
       "      <th>4</th>\n",
       "      <td>AGUAS DE LINDOIA</td>\n",
       "      <td>3500501</td>\n",
       "    </tr>\n",
       "  </tbody>\n",
       "</table>\n",
       "</div>"
      ],
      "text/plain": [
       "               nome codigo_ibge\n",
       "0        ADAMANTINA     3500105\n",
       "1            ADOLFO     3500204\n",
       "2             AGUAI     3500303\n",
       "3    AGUAS DA PRATA     3500402\n",
       "4  AGUAS DE LINDOIA     3500501"
      ]
     },
     "execution_count": 10,
     "metadata": {},
     "output_type": "execute_result"
    }
   ],
   "source": [
    "base_municipios.head()"
   ]
  },
  {
   "cell_type": "code",
   "execution_count": 11,
   "metadata": {},
   "outputs": [],
   "source": [
    "base_uf = extracao('https://brasilapi.com.br/api/ibge/uf/v1','base_uf')"
   ]
  },
  {
   "cell_type": "code",
   "execution_count": 12,
   "metadata": {},
   "outputs": [
    {
     "data": {
      "text/html": [
       "<div>\n",
       "<style scoped>\n",
       "    .dataframe tbody tr th:only-of-type {\n",
       "        vertical-align: middle;\n",
       "    }\n",
       "\n",
       "    .dataframe tbody tr th {\n",
       "        vertical-align: top;\n",
       "    }\n",
       "\n",
       "    .dataframe thead th {\n",
       "        text-align: right;\n",
       "    }\n",
       "</style>\n",
       "<table border=\"1\" class=\"dataframe\">\n",
       "  <thead>\n",
       "    <tr style=\"text-align: right;\">\n",
       "      <th></th>\n",
       "      <th>id</th>\n",
       "      <th>sigla</th>\n",
       "      <th>nome</th>\n",
       "      <th>regiao</th>\n",
       "    </tr>\n",
       "  </thead>\n",
       "  <tbody>\n",
       "    <tr>\n",
       "      <th>0</th>\n",
       "      <td>11</td>\n",
       "      <td>RO</td>\n",
       "      <td>Rondônia</td>\n",
       "      <td>{'id': 1, 'sigla': 'N', 'nome': 'Norte'}</td>\n",
       "    </tr>\n",
       "    <tr>\n",
       "      <th>1</th>\n",
       "      <td>12</td>\n",
       "      <td>AC</td>\n",
       "      <td>Acre</td>\n",
       "      <td>{'id': 1, 'sigla': 'N', 'nome': 'Norte'}</td>\n",
       "    </tr>\n",
       "    <tr>\n",
       "      <th>2</th>\n",
       "      <td>13</td>\n",
       "      <td>AM</td>\n",
       "      <td>Amazonas</td>\n",
       "      <td>{'id': 1, 'sigla': 'N', 'nome': 'Norte'}</td>\n",
       "    </tr>\n",
       "    <tr>\n",
       "      <th>3</th>\n",
       "      <td>14</td>\n",
       "      <td>RR</td>\n",
       "      <td>Roraima</td>\n",
       "      <td>{'id': 1, 'sigla': 'N', 'nome': 'Norte'}</td>\n",
       "    </tr>\n",
       "    <tr>\n",
       "      <th>4</th>\n",
       "      <td>15</td>\n",
       "      <td>PA</td>\n",
       "      <td>Pará</td>\n",
       "      <td>{'id': 1, 'sigla': 'N', 'nome': 'Norte'}</td>\n",
       "    </tr>\n",
       "  </tbody>\n",
       "</table>\n",
       "</div>"
      ],
      "text/plain": [
       "   id sigla      nome                                    regiao\n",
       "0  11    RO  Rondônia  {'id': 1, 'sigla': 'N', 'nome': 'Norte'}\n",
       "1  12    AC      Acre  {'id': 1, 'sigla': 'N', 'nome': 'Norte'}\n",
       "2  13    AM  Amazonas  {'id': 1, 'sigla': 'N', 'nome': 'Norte'}\n",
       "3  14    RR   Roraima  {'id': 1, 'sigla': 'N', 'nome': 'Norte'}\n",
       "4  15    PA      Pará  {'id': 1, 'sigla': 'N', 'nome': 'Norte'}"
      ]
     },
     "execution_count": 12,
     "metadata": {},
     "output_type": "execute_result"
    }
   ],
   "source": [
    "base_uf.head()"
   ]
  },
  {
   "cell_type": "code",
   "execution_count": 13,
   "metadata": {},
   "outputs": [],
   "source": [
    "base_estado_sp = extracao('https://brasilapi.com.br/api/ibge/uf/v1/sp','base_estado_sp')"
   ]
  },
  {
   "cell_type": "code",
   "execution_count": 14,
   "metadata": {},
   "outputs": [
    {
     "data": {
      "text/html": [
       "<div>\n",
       "<style scoped>\n",
       "    .dataframe tbody tr th:only-of-type {\n",
       "        vertical-align: middle;\n",
       "    }\n",
       "\n",
       "    .dataframe tbody tr th {\n",
       "        vertical-align: top;\n",
       "    }\n",
       "\n",
       "    .dataframe thead th {\n",
       "        text-align: right;\n",
       "    }\n",
       "</style>\n",
       "<table border=\"1\" class=\"dataframe\">\n",
       "  <thead>\n",
       "    <tr style=\"text-align: right;\">\n",
       "      <th></th>\n",
       "      <th>id</th>\n",
       "      <th>sigla</th>\n",
       "      <th>nome</th>\n",
       "      <th>regiao</th>\n",
       "    </tr>\n",
       "  </thead>\n",
       "  <tbody>\n",
       "    <tr>\n",
       "      <th>id</th>\n",
       "      <td>35</td>\n",
       "      <td>SP</td>\n",
       "      <td>São Paulo</td>\n",
       "      <td>3</td>\n",
       "    </tr>\n",
       "    <tr>\n",
       "      <th>nome</th>\n",
       "      <td>35</td>\n",
       "      <td>SP</td>\n",
       "      <td>São Paulo</td>\n",
       "      <td>Sudeste</td>\n",
       "    </tr>\n",
       "    <tr>\n",
       "      <th>sigla</th>\n",
       "      <td>35</td>\n",
       "      <td>SP</td>\n",
       "      <td>São Paulo</td>\n",
       "      <td>SE</td>\n",
       "    </tr>\n",
       "  </tbody>\n",
       "</table>\n",
       "</div>"
      ],
      "text/plain": [
       "       id sigla       nome   regiao\n",
       "id     35    SP  São Paulo        3\n",
       "nome   35    SP  São Paulo  Sudeste\n",
       "sigla  35    SP  São Paulo       SE"
      ]
     },
     "execution_count": 14,
     "metadata": {},
     "output_type": "execute_result"
    }
   ],
   "source": [
    "base_estado_sp.head()"
   ]
  },
  {
   "cell_type": "code",
   "execution_count": 15,
   "metadata": {},
   "outputs": [],
   "source": [
    "base_pix = extracao('https://brasilapi.com.br/api/pix/v1/participants','base_pix')"
   ]
  },
  {
   "cell_type": "code",
   "execution_count": 16,
   "metadata": {},
   "outputs": [
    {
     "data": {
      "text/html": [
       "<div>\n",
       "<style scoped>\n",
       "    .dataframe tbody tr th:only-of-type {\n",
       "        vertical-align: middle;\n",
       "    }\n",
       "\n",
       "    .dataframe tbody tr th {\n",
       "        vertical-align: top;\n",
       "    }\n",
       "\n",
       "    .dataframe thead th {\n",
       "        text-align: right;\n",
       "    }\n",
       "</style>\n",
       "<table border=\"1\" class=\"dataframe\">\n",
       "  <thead>\n",
       "    <tr style=\"text-align: right;\">\n",
       "      <th></th>\n",
       "      <th>ispb</th>\n",
       "      <th>nome</th>\n",
       "      <th>nome_reduzido</th>\n",
       "      <th>modalidade_participacao</th>\n",
       "      <th>tipo_participacao</th>\n",
       "      <th>inicio_operacao</th>\n",
       "    </tr>\n",
       "  </thead>\n",
       "  <tbody>\n",
       "    <tr>\n",
       "      <th>0</th>\n",
       "      <td>00000000</td>\n",
       "      <td>BANCO DO BRASIL S.A.</td>\n",
       "      <td>BCO DO BRASIL S.A.</td>\n",
       "      <td>PDCT</td>\n",
       "      <td>DRCT</td>\n",
       "      <td>2020-11-03T09:30:00.000Z</td>\n",
       "    </tr>\n",
       "    <tr>\n",
       "      <th>1</th>\n",
       "      <td>00000208</td>\n",
       "      <td>BRB - BANCO DE BRASILIA S.A.</td>\n",
       "      <td>BRB - BCO DE BRASILIA S.A.</td>\n",
       "      <td>PDCT</td>\n",
       "      <td>DRCT</td>\n",
       "      <td>2020-11-03T09:30:00.000Z</td>\n",
       "    </tr>\n",
       "    <tr>\n",
       "      <th>2</th>\n",
       "      <td>00068987</td>\n",
       "      <td>COOPERATIVA DE CRÉDITO ARACREDI LTDA. - SICOOB...</td>\n",
       "      <td>CC ARACREDI LTDA.</td>\n",
       "      <td>PDCT</td>\n",
       "      <td>IDRT</td>\n",
       "      <td>2020-11-03T09:30:00.000Z</td>\n",
       "    </tr>\n",
       "    <tr>\n",
       "      <th>3</th>\n",
       "      <td>00075847</td>\n",
       "      <td>COOPERATIVA DE CRÉDITO UNICRED CENTRO-SUL LTDA...</td>\n",
       "      <td>CC UNICRED CENTRO-SUL LTDA - UNICRED CENTRO-SUL</td>\n",
       "      <td>PDCT</td>\n",
       "      <td>IDRT</td>\n",
       "      <td>2020-11-03T09:30:00.000Z</td>\n",
       "    </tr>\n",
       "    <tr>\n",
       "      <th>4</th>\n",
       "      <td>00106180</td>\n",
       "      <td>CENTRAL DAS COOPERATIVAS DE CRÉDITO DOS ESTADO...</td>\n",
       "      <td>CCC DOS EST DE MT, MS E MUN DE CACOAL/RO</td>\n",
       "      <td>PDCT</td>\n",
       "      <td>IDRT</td>\n",
       "      <td>2020-11-03T09:30:00.000Z</td>\n",
       "    </tr>\n",
       "  </tbody>\n",
       "</table>\n",
       "</div>"
      ],
      "text/plain": [
       "       ispb                                               nome  \\\n",
       "0  00000000                               BANCO DO BRASIL S.A.   \n",
       "1  00000208                       BRB - BANCO DE BRASILIA S.A.   \n",
       "2  00068987  COOPERATIVA DE CRÉDITO ARACREDI LTDA. - SICOOB...   \n",
       "3  00075847  COOPERATIVA DE CRÉDITO UNICRED CENTRO-SUL LTDA...   \n",
       "4  00106180  CENTRAL DAS COOPERATIVAS DE CRÉDITO DOS ESTADO...   \n",
       "\n",
       "                                     nome_reduzido modalidade_participacao  \\\n",
       "0                               BCO DO BRASIL S.A.                    PDCT   \n",
       "1                       BRB - BCO DE BRASILIA S.A.                    PDCT   \n",
       "2                                CC ARACREDI LTDA.                    PDCT   \n",
       "3  CC UNICRED CENTRO-SUL LTDA - UNICRED CENTRO-SUL                    PDCT   \n",
       "4         CCC DOS EST DE MT, MS E MUN DE CACOAL/RO                    PDCT   \n",
       "\n",
       "  tipo_participacao           inicio_operacao  \n",
       "0              DRCT  2020-11-03T09:30:00.000Z  \n",
       "1              DRCT  2020-11-03T09:30:00.000Z  \n",
       "2              IDRT  2020-11-03T09:30:00.000Z  \n",
       "3              IDRT  2020-11-03T09:30:00.000Z  \n",
       "4              IDRT  2020-11-03T09:30:00.000Z  "
      ]
     },
     "execution_count": 16,
     "metadata": {},
     "output_type": "execute_result"
    }
   ],
   "source": [
    "base_pix.head()"
   ]
  },
  {
   "cell_type": "markdown",
   "metadata": {},
   "source": [
    "Tratamento"
   ]
  },
  {
   "cell_type": "code",
   "execution_count": 17,
   "metadata": {},
   "outputs": [
    {
     "data": {
      "text/html": [
       "<div>\n",
       "<style scoped>\n",
       "    .dataframe tbody tr th:only-of-type {\n",
       "        vertical-align: middle;\n",
       "    }\n",
       "\n",
       "    .dataframe tbody tr th {\n",
       "        vertical-align: top;\n",
       "    }\n",
       "\n",
       "    .dataframe thead th {\n",
       "        text-align: right;\n",
       "    }\n",
       "</style>\n",
       "<table border=\"1\" class=\"dataframe\">\n",
       "  <thead>\n",
       "    <tr style=\"text-align: right;\">\n",
       "      <th></th>\n",
       "      <th>id</th>\n",
       "      <th>sigla</th>\n",
       "      <th>nome</th>\n",
       "      <th>regiao</th>\n",
       "    </tr>\n",
       "  </thead>\n",
       "  <tbody>\n",
       "    <tr>\n",
       "      <th>0</th>\n",
       "      <td>11</td>\n",
       "      <td>RO</td>\n",
       "      <td>Rondônia</td>\n",
       "      <td>{'id': 1, 'sigla': 'N', 'nome': 'Norte'}</td>\n",
       "    </tr>\n",
       "    <tr>\n",
       "      <th>1</th>\n",
       "      <td>12</td>\n",
       "      <td>AC</td>\n",
       "      <td>Acre</td>\n",
       "      <td>{'id': 1, 'sigla': 'N', 'nome': 'Norte'}</td>\n",
       "    </tr>\n",
       "    <tr>\n",
       "      <th>2</th>\n",
       "      <td>13</td>\n",
       "      <td>AM</td>\n",
       "      <td>Amazonas</td>\n",
       "      <td>{'id': 1, 'sigla': 'N', 'nome': 'Norte'}</td>\n",
       "    </tr>\n",
       "    <tr>\n",
       "      <th>3</th>\n",
       "      <td>14</td>\n",
       "      <td>RR</td>\n",
       "      <td>Roraima</td>\n",
       "      <td>{'id': 1, 'sigla': 'N', 'nome': 'Norte'}</td>\n",
       "    </tr>\n",
       "    <tr>\n",
       "      <th>4</th>\n",
       "      <td>15</td>\n",
       "      <td>PA</td>\n",
       "      <td>Pará</td>\n",
       "      <td>{'id': 1, 'sigla': 'N', 'nome': 'Norte'}</td>\n",
       "    </tr>\n",
       "  </tbody>\n",
       "</table>\n",
       "</div>"
      ],
      "text/plain": [
       "   id sigla      nome                                    regiao\n",
       "0  11    RO  Rondônia  {'id': 1, 'sigla': 'N', 'nome': 'Norte'}\n",
       "1  12    AC      Acre  {'id': 1, 'sigla': 'N', 'nome': 'Norte'}\n",
       "2  13    AM  Amazonas  {'id': 1, 'sigla': 'N', 'nome': 'Norte'}\n",
       "3  14    RR   Roraima  {'id': 1, 'sigla': 'N', 'nome': 'Norte'}\n",
       "4  15    PA      Pará  {'id': 1, 'sigla': 'N', 'nome': 'Norte'}"
      ]
     },
     "execution_count": 17,
     "metadata": {},
     "output_type": "execute_result"
    }
   ],
   "source": [
    "base_uf.head()"
   ]
  },
  {
   "cell_type": "code",
   "execution_count": 18,
   "metadata": {},
   "outputs": [],
   "source": [
    "sigla_regiao = [sr['sigla'] for sr in base_uf['regiao']]\n",
    "nome_regiao = [nr['nome'] for nr in base_uf['regiao']]\n",
    "sigla_estado = [estado for estado in base_uf['sigla']]\n",
    "nome_estado = [estado for estado in base_uf['nome']]"
   ]
  },
  {
   "cell_type": "code",
   "execution_count": 19,
   "metadata": {},
   "outputs": [],
   "source": [
    "base_uf_tratada = pd.DataFrame({'Sigla': sigla_estado, 'Nome': nome_estado, 'Sigla Região': sigla_regiao, 'Nome Região': nome_regiao})"
   ]
  },
  {
   "cell_type": "code",
   "execution_count": 20,
   "metadata": {},
   "outputs": [
    {
     "data": {
      "text/html": [
       "<div>\n",
       "<style scoped>\n",
       "    .dataframe tbody tr th:only-of-type {\n",
       "        vertical-align: middle;\n",
       "    }\n",
       "\n",
       "    .dataframe tbody tr th {\n",
       "        vertical-align: top;\n",
       "    }\n",
       "\n",
       "    .dataframe thead th {\n",
       "        text-align: right;\n",
       "    }\n",
       "</style>\n",
       "<table border=\"1\" class=\"dataframe\">\n",
       "  <thead>\n",
       "    <tr style=\"text-align: right;\">\n",
       "      <th></th>\n",
       "      <th>Sigla</th>\n",
       "      <th>Nome</th>\n",
       "      <th>Sigla Região</th>\n",
       "      <th>Nome Região</th>\n",
       "    </tr>\n",
       "  </thead>\n",
       "  <tbody>\n",
       "    <tr>\n",
       "      <th>0</th>\n",
       "      <td>RO</td>\n",
       "      <td>Rondônia</td>\n",
       "      <td>N</td>\n",
       "      <td>Norte</td>\n",
       "    </tr>\n",
       "    <tr>\n",
       "      <th>1</th>\n",
       "      <td>AC</td>\n",
       "      <td>Acre</td>\n",
       "      <td>N</td>\n",
       "      <td>Norte</td>\n",
       "    </tr>\n",
       "    <tr>\n",
       "      <th>2</th>\n",
       "      <td>AM</td>\n",
       "      <td>Amazonas</td>\n",
       "      <td>N</td>\n",
       "      <td>Norte</td>\n",
       "    </tr>\n",
       "    <tr>\n",
       "      <th>3</th>\n",
       "      <td>RR</td>\n",
       "      <td>Roraima</td>\n",
       "      <td>N</td>\n",
       "      <td>Norte</td>\n",
       "    </tr>\n",
       "    <tr>\n",
       "      <th>4</th>\n",
       "      <td>PA</td>\n",
       "      <td>Pará</td>\n",
       "      <td>N</td>\n",
       "      <td>Norte</td>\n",
       "    </tr>\n",
       "  </tbody>\n",
       "</table>\n",
       "</div>"
      ],
      "text/plain": [
       "  Sigla      Nome Sigla Região Nome Região\n",
       "0    RO  Rondônia            N       Norte\n",
       "1    AC      Acre            N       Norte\n",
       "2    AM  Amazonas            N       Norte\n",
       "3    RR   Roraima            N       Norte\n",
       "4    PA      Pará            N       Norte"
      ]
     },
     "execution_count": 20,
     "metadata": {},
     "output_type": "execute_result"
    }
   ],
   "source": [
    "base_uf_tratada.head()"
   ]
  },
  {
   "cell_type": "code",
   "execution_count": 22,
   "metadata": {},
   "outputs": [
    {
     "data": {
      "text/html": [
       "<div>\n",
       "<style scoped>\n",
       "    .dataframe tbody tr th:only-of-type {\n",
       "        vertical-align: middle;\n",
       "    }\n",
       "\n",
       "    .dataframe tbody tr th {\n",
       "        vertical-align: top;\n",
       "    }\n",
       "\n",
       "    .dataframe thead th {\n",
       "        text-align: right;\n",
       "    }\n",
       "</style>\n",
       "<table border=\"1\" class=\"dataframe\">\n",
       "  <thead>\n",
       "    <tr style=\"text-align: right;\">\n",
       "      <th></th>\n",
       "      <th>id</th>\n",
       "      <th>sigla</th>\n",
       "      <th>nome</th>\n",
       "      <th>regiao</th>\n",
       "    </tr>\n",
       "  </thead>\n",
       "  <tbody>\n",
       "    <tr>\n",
       "      <th>id</th>\n",
       "      <td>35</td>\n",
       "      <td>SP</td>\n",
       "      <td>São Paulo</td>\n",
       "      <td>3</td>\n",
       "    </tr>\n",
       "    <tr>\n",
       "      <th>nome</th>\n",
       "      <td>35</td>\n",
       "      <td>SP</td>\n",
       "      <td>São Paulo</td>\n",
       "      <td>Sudeste</td>\n",
       "    </tr>\n",
       "    <tr>\n",
       "      <th>sigla</th>\n",
       "      <td>35</td>\n",
       "      <td>SP</td>\n",
       "      <td>São Paulo</td>\n",
       "      <td>SE</td>\n",
       "    </tr>\n",
       "  </tbody>\n",
       "</table>\n",
       "</div>"
      ],
      "text/plain": [
       "       id sigla       nome   regiao\n",
       "id     35    SP  São Paulo        3\n",
       "nome   35    SP  São Paulo  Sudeste\n",
       "sigla  35    SP  São Paulo       SE"
      ]
     },
     "execution_count": 22,
     "metadata": {},
     "output_type": "execute_result"
    }
   ],
   "source": [
    "base_estado_sp.head()"
   ]
  },
  {
   "cell_type": "code",
   "execution_count": 26,
   "metadata": {},
   "outputs": [],
   "source": [
    "base_estado_sp_tratada = base_estado_sp.reset_index()"
   ]
  },
  {
   "cell_type": "code",
   "execution_count": 27,
   "metadata": {},
   "outputs": [
    {
     "data": {
      "text/html": [
       "<div>\n",
       "<style scoped>\n",
       "    .dataframe tbody tr th:only-of-type {\n",
       "        vertical-align: middle;\n",
       "    }\n",
       "\n",
       "    .dataframe tbody tr th {\n",
       "        vertical-align: top;\n",
       "    }\n",
       "\n",
       "    .dataframe thead th {\n",
       "        text-align: right;\n",
       "    }\n",
       "</style>\n",
       "<table border=\"1\" class=\"dataframe\">\n",
       "  <thead>\n",
       "    <tr style=\"text-align: right;\">\n",
       "      <th></th>\n",
       "      <th>index</th>\n",
       "      <th>id</th>\n",
       "      <th>sigla</th>\n",
       "      <th>nome</th>\n",
       "      <th>regiao</th>\n",
       "    </tr>\n",
       "  </thead>\n",
       "  <tbody>\n",
       "    <tr>\n",
       "      <th>0</th>\n",
       "      <td>id</td>\n",
       "      <td>35</td>\n",
       "      <td>SP</td>\n",
       "      <td>São Paulo</td>\n",
       "      <td>3</td>\n",
       "    </tr>\n",
       "    <tr>\n",
       "      <th>1</th>\n",
       "      <td>nome</td>\n",
       "      <td>35</td>\n",
       "      <td>SP</td>\n",
       "      <td>São Paulo</td>\n",
       "      <td>Sudeste</td>\n",
       "    </tr>\n",
       "    <tr>\n",
       "      <th>2</th>\n",
       "      <td>sigla</td>\n",
       "      <td>35</td>\n",
       "      <td>SP</td>\n",
       "      <td>São Paulo</td>\n",
       "      <td>SE</td>\n",
       "    </tr>\n",
       "  </tbody>\n",
       "</table>\n",
       "</div>"
      ],
      "text/plain": [
       "   index  id sigla       nome   regiao\n",
       "0     id  35    SP  São Paulo        3\n",
       "1   nome  35    SP  São Paulo  Sudeste\n",
       "2  sigla  35    SP  São Paulo       SE"
      ]
     },
     "execution_count": 27,
     "metadata": {},
     "output_type": "execute_result"
    }
   ],
   "source": [
    "base_estado_sp_tratada"
   ]
  },
  {
   "cell_type": "code",
   "execution_count": 28,
   "metadata": {},
   "outputs": [],
   "source": [
    "base_estado_sp_tratada1 = base_estado_sp_tratada[base_estado_sp_tratada['index'] == 'nome']"
   ]
  },
  {
   "cell_type": "code",
   "execution_count": 29,
   "metadata": {},
   "outputs": [
    {
     "data": {
      "text/html": [
       "<div>\n",
       "<style scoped>\n",
       "    .dataframe tbody tr th:only-of-type {\n",
       "        vertical-align: middle;\n",
       "    }\n",
       "\n",
       "    .dataframe tbody tr th {\n",
       "        vertical-align: top;\n",
       "    }\n",
       "\n",
       "    .dataframe thead th {\n",
       "        text-align: right;\n",
       "    }\n",
       "</style>\n",
       "<table border=\"1\" class=\"dataframe\">\n",
       "  <thead>\n",
       "    <tr style=\"text-align: right;\">\n",
       "      <th></th>\n",
       "      <th>index</th>\n",
       "      <th>id</th>\n",
       "      <th>sigla</th>\n",
       "      <th>nome</th>\n",
       "      <th>regiao</th>\n",
       "    </tr>\n",
       "  </thead>\n",
       "  <tbody>\n",
       "    <tr>\n",
       "      <th>1</th>\n",
       "      <td>nome</td>\n",
       "      <td>35</td>\n",
       "      <td>SP</td>\n",
       "      <td>São Paulo</td>\n",
       "      <td>Sudeste</td>\n",
       "    </tr>\n",
       "  </tbody>\n",
       "</table>\n",
       "</div>"
      ],
      "text/plain": [
       "  index  id sigla       nome   regiao\n",
       "1  nome  35    SP  São Paulo  Sudeste"
      ]
     },
     "execution_count": 29,
     "metadata": {},
     "output_type": "execute_result"
    }
   ],
   "source": [
    "base_estado_sp_tratada1"
   ]
  },
  {
   "cell_type": "code",
   "execution_count": 30,
   "metadata": {},
   "outputs": [
    {
     "data": {
      "text/html": [
       "<div>\n",
       "<style scoped>\n",
       "    .dataframe tbody tr th:only-of-type {\n",
       "        vertical-align: middle;\n",
       "    }\n",
       "\n",
       "    .dataframe tbody tr th {\n",
       "        vertical-align: top;\n",
       "    }\n",
       "\n",
       "    .dataframe thead th {\n",
       "        text-align: right;\n",
       "    }\n",
       "</style>\n",
       "<table border=\"1\" class=\"dataframe\">\n",
       "  <thead>\n",
       "    <tr style=\"text-align: right;\">\n",
       "      <th></th>\n",
       "      <th>ispb</th>\n",
       "      <th>nome</th>\n",
       "      <th>nome_reduzido</th>\n",
       "      <th>modalidade_participacao</th>\n",
       "      <th>tipo_participacao</th>\n",
       "      <th>inicio_operacao</th>\n",
       "    </tr>\n",
       "  </thead>\n",
       "  <tbody>\n",
       "    <tr>\n",
       "      <th>0</th>\n",
       "      <td>00000000</td>\n",
       "      <td>BANCO DO BRASIL S.A.</td>\n",
       "      <td>BCO DO BRASIL S.A.</td>\n",
       "      <td>PDCT</td>\n",
       "      <td>DRCT</td>\n",
       "      <td>2020-11-03T09:30:00.000Z</td>\n",
       "    </tr>\n",
       "    <tr>\n",
       "      <th>1</th>\n",
       "      <td>00000208</td>\n",
       "      <td>BRB - BANCO DE BRASILIA S.A.</td>\n",
       "      <td>BRB - BCO DE BRASILIA S.A.</td>\n",
       "      <td>PDCT</td>\n",
       "      <td>DRCT</td>\n",
       "      <td>2020-11-03T09:30:00.000Z</td>\n",
       "    </tr>\n",
       "    <tr>\n",
       "      <th>2</th>\n",
       "      <td>00068987</td>\n",
       "      <td>COOPERATIVA DE CRÉDITO ARACREDI LTDA. - SICOOB...</td>\n",
       "      <td>CC ARACREDI LTDA.</td>\n",
       "      <td>PDCT</td>\n",
       "      <td>IDRT</td>\n",
       "      <td>2020-11-03T09:30:00.000Z</td>\n",
       "    </tr>\n",
       "    <tr>\n",
       "      <th>3</th>\n",
       "      <td>00075847</td>\n",
       "      <td>COOPERATIVA DE CRÉDITO UNICRED CENTRO-SUL LTDA...</td>\n",
       "      <td>CC UNICRED CENTRO-SUL LTDA - UNICRED CENTRO-SUL</td>\n",
       "      <td>PDCT</td>\n",
       "      <td>IDRT</td>\n",
       "      <td>2020-11-03T09:30:00.000Z</td>\n",
       "    </tr>\n",
       "    <tr>\n",
       "      <th>4</th>\n",
       "      <td>00106180</td>\n",
       "      <td>CENTRAL DAS COOPERATIVAS DE CRÉDITO DOS ESTADO...</td>\n",
       "      <td>CCC DOS EST DE MT, MS E MUN DE CACOAL/RO</td>\n",
       "      <td>PDCT</td>\n",
       "      <td>IDRT</td>\n",
       "      <td>2020-11-03T09:30:00.000Z</td>\n",
       "    </tr>\n",
       "  </tbody>\n",
       "</table>\n",
       "</div>"
      ],
      "text/plain": [
       "       ispb                                               nome  \\\n",
       "0  00000000                               BANCO DO BRASIL S.A.   \n",
       "1  00000208                       BRB - BANCO DE BRASILIA S.A.   \n",
       "2  00068987  COOPERATIVA DE CRÉDITO ARACREDI LTDA. - SICOOB...   \n",
       "3  00075847  COOPERATIVA DE CRÉDITO UNICRED CENTRO-SUL LTDA...   \n",
       "4  00106180  CENTRAL DAS COOPERATIVAS DE CRÉDITO DOS ESTADO...   \n",
       "\n",
       "                                     nome_reduzido modalidade_participacao  \\\n",
       "0                               BCO DO BRASIL S.A.                    PDCT   \n",
       "1                       BRB - BCO DE BRASILIA S.A.                    PDCT   \n",
       "2                                CC ARACREDI LTDA.                    PDCT   \n",
       "3  CC UNICRED CENTRO-SUL LTDA - UNICRED CENTRO-SUL                    PDCT   \n",
       "4         CCC DOS EST DE MT, MS E MUN DE CACOAL/RO                    PDCT   \n",
       "\n",
       "  tipo_participacao           inicio_operacao  \n",
       "0              DRCT  2020-11-03T09:30:00.000Z  \n",
       "1              DRCT  2020-11-03T09:30:00.000Z  \n",
       "2              IDRT  2020-11-03T09:30:00.000Z  \n",
       "3              IDRT  2020-11-03T09:30:00.000Z  \n",
       "4              IDRT  2020-11-03T09:30:00.000Z  "
      ]
     },
     "execution_count": 30,
     "metadata": {},
     "output_type": "execute_result"
    }
   ],
   "source": [
    "base_pix.head()"
   ]
  },
  {
   "cell_type": "code",
   "execution_count": 34,
   "metadata": {},
   "outputs": [],
   "source": [
    "from datetime import datetime"
   ]
  },
  {
   "cell_type": "code",
   "execution_count": 37,
   "metadata": {},
   "outputs": [
    {
     "name": "stdout",
     "output_type": "stream",
     "text": [
      "<class 'pandas.core.frame.DataFrame'>\n",
      "RangeIndex: 797 entries, 0 to 796\n",
      "Data columns (total 6 columns):\n",
      " #   Column                   Non-Null Count  Dtype \n",
      "---  ------                   --------------  ----- \n",
      " 0   ispb                     797 non-null    object\n",
      " 1   nome                     797 non-null    object\n",
      " 2   nome_reduzido            797 non-null    object\n",
      " 3   modalidade_participacao  797 non-null    object\n",
      " 4   tipo_participacao        797 non-null    object\n",
      " 5   inicio_operacao          797 non-null    object\n",
      "dtypes: object(6)\n",
      "memory usage: 37.5+ KB\n"
     ]
    }
   ],
   "source": [
    "base_pix.info()"
   ]
  },
  {
   "cell_type": "code",
   "execution_count": 38,
   "metadata": {},
   "outputs": [],
   "source": [
    "base_pix['inicio_operacao'] = pd.to_datetime(base_pix['inicio_operacao'])"
   ]
  },
  {
   "cell_type": "code",
   "execution_count": 39,
   "metadata": {},
   "outputs": [
    {
     "name": "stdout",
     "output_type": "stream",
     "text": [
      "<class 'pandas.core.frame.DataFrame'>\n",
      "RangeIndex: 797 entries, 0 to 796\n",
      "Data columns (total 6 columns):\n",
      " #   Column                   Non-Null Count  Dtype              \n",
      "---  ------                   --------------  -----              \n",
      " 0   ispb                     797 non-null    object             \n",
      " 1   nome                     797 non-null    object             \n",
      " 2   nome_reduzido            797 non-null    object             \n",
      " 3   modalidade_participacao  797 non-null    object             \n",
      " 4   tipo_participacao        797 non-null    object             \n",
      " 5   inicio_operacao          797 non-null    datetime64[ns, UTC]\n",
      "dtypes: datetime64[ns, UTC](1), object(5)\n",
      "memory usage: 37.5+ KB\n"
     ]
    }
   ],
   "source": [
    "base_pix.info()"
   ]
  },
  {
   "cell_type": "code",
   "execution_count": 40,
   "metadata": {},
   "outputs": [
    {
     "data": {
      "text/html": [
       "<div>\n",
       "<style scoped>\n",
       "    .dataframe tbody tr th:only-of-type {\n",
       "        vertical-align: middle;\n",
       "    }\n",
       "\n",
       "    .dataframe tbody tr th {\n",
       "        vertical-align: top;\n",
       "    }\n",
       "\n",
       "    .dataframe thead th {\n",
       "        text-align: right;\n",
       "    }\n",
       "</style>\n",
       "<table border=\"1\" class=\"dataframe\">\n",
       "  <thead>\n",
       "    <tr style=\"text-align: right;\">\n",
       "      <th></th>\n",
       "      <th>ispb</th>\n",
       "      <th>nome</th>\n",
       "      <th>nome_reduzido</th>\n",
       "      <th>modalidade_participacao</th>\n",
       "      <th>tipo_participacao</th>\n",
       "      <th>inicio_operacao</th>\n",
       "    </tr>\n",
       "  </thead>\n",
       "  <tbody>\n",
       "    <tr>\n",
       "      <th>0</th>\n",
       "      <td>00000000</td>\n",
       "      <td>BANCO DO BRASIL S.A.</td>\n",
       "      <td>BCO DO BRASIL S.A.</td>\n",
       "      <td>PDCT</td>\n",
       "      <td>DRCT</td>\n",
       "      <td>2020-11-03 09:30:00+00:00</td>\n",
       "    </tr>\n",
       "    <tr>\n",
       "      <th>1</th>\n",
       "      <td>00000208</td>\n",
       "      <td>BRB - BANCO DE BRASILIA S.A.</td>\n",
       "      <td>BRB - BCO DE BRASILIA S.A.</td>\n",
       "      <td>PDCT</td>\n",
       "      <td>DRCT</td>\n",
       "      <td>2020-11-03 09:30:00+00:00</td>\n",
       "    </tr>\n",
       "    <tr>\n",
       "      <th>2</th>\n",
       "      <td>00068987</td>\n",
       "      <td>COOPERATIVA DE CRÉDITO ARACREDI LTDA. - SICOOB...</td>\n",
       "      <td>CC ARACREDI LTDA.</td>\n",
       "      <td>PDCT</td>\n",
       "      <td>IDRT</td>\n",
       "      <td>2020-11-03 09:30:00+00:00</td>\n",
       "    </tr>\n",
       "    <tr>\n",
       "      <th>3</th>\n",
       "      <td>00075847</td>\n",
       "      <td>COOPERATIVA DE CRÉDITO UNICRED CENTRO-SUL LTDA...</td>\n",
       "      <td>CC UNICRED CENTRO-SUL LTDA - UNICRED CENTRO-SUL</td>\n",
       "      <td>PDCT</td>\n",
       "      <td>IDRT</td>\n",
       "      <td>2020-11-03 09:30:00+00:00</td>\n",
       "    </tr>\n",
       "    <tr>\n",
       "      <th>4</th>\n",
       "      <td>00106180</td>\n",
       "      <td>CENTRAL DAS COOPERATIVAS DE CRÉDITO DOS ESTADO...</td>\n",
       "      <td>CCC DOS EST DE MT, MS E MUN DE CACOAL/RO</td>\n",
       "      <td>PDCT</td>\n",
       "      <td>IDRT</td>\n",
       "      <td>2020-11-03 09:30:00+00:00</td>\n",
       "    </tr>\n",
       "  </tbody>\n",
       "</table>\n",
       "</div>"
      ],
      "text/plain": [
       "       ispb                                               nome  \\\n",
       "0  00000000                               BANCO DO BRASIL S.A.   \n",
       "1  00000208                       BRB - BANCO DE BRASILIA S.A.   \n",
       "2  00068987  COOPERATIVA DE CRÉDITO ARACREDI LTDA. - SICOOB...   \n",
       "3  00075847  COOPERATIVA DE CRÉDITO UNICRED CENTRO-SUL LTDA...   \n",
       "4  00106180  CENTRAL DAS COOPERATIVAS DE CRÉDITO DOS ESTADO...   \n",
       "\n",
       "                                     nome_reduzido modalidade_participacao  \\\n",
       "0                               BCO DO BRASIL S.A.                    PDCT   \n",
       "1                       BRB - BCO DE BRASILIA S.A.                    PDCT   \n",
       "2                                CC ARACREDI LTDA.                    PDCT   \n",
       "3  CC UNICRED CENTRO-SUL LTDA - UNICRED CENTRO-SUL                    PDCT   \n",
       "4         CCC DOS EST DE MT, MS E MUN DE CACOAL/RO                    PDCT   \n",
       "\n",
       "  tipo_participacao           inicio_operacao  \n",
       "0              DRCT 2020-11-03 09:30:00+00:00  \n",
       "1              DRCT 2020-11-03 09:30:00+00:00  \n",
       "2              IDRT 2020-11-03 09:30:00+00:00  \n",
       "3              IDRT 2020-11-03 09:30:00+00:00  \n",
       "4              IDRT 2020-11-03 09:30:00+00:00  "
      ]
     },
     "execution_count": 40,
     "metadata": {},
     "output_type": "execute_result"
    }
   ],
   "source": [
    "base_pix.head()"
   ]
  },
  {
   "cell_type": "code",
   "execution_count": 49,
   "metadata": {},
   "outputs": [
    {
     "ename": "AttributeError",
     "evalue": "Can only use .dt accessor with datetimelike values",
     "output_type": "error",
     "traceback": [
      "\u001b[1;31m---------------------------------------------------------------------------\u001b[0m",
      "\u001b[1;31mAttributeError\u001b[0m                            Traceback (most recent call last)",
      "\u001b[1;32mc:\\Users\\franc\\Documents\\CursoPython\\projeto02_1.ipynb Cell 27\u001b[0m line \u001b[0;36m1\n\u001b[1;32m----> <a href='vscode-notebook-cell:/c%3A/Users/franc/Documents/CursoPython/projeto02_1.ipynb#X40sZmlsZQ%3D%3D?line=0'>1</a>\u001b[0m base_pix[\u001b[39m'\u001b[39m\u001b[39minicio_operacao\u001b[39m\u001b[39m'\u001b[39m] \u001b[39m=\u001b[39m base_pix[\u001b[39m'\u001b[39;49m\u001b[39minicio_operacao\u001b[39;49m\u001b[39m'\u001b[39;49m]\u001b[39m.\u001b[39;49mdt\u001b[39m.\u001b[39mstrftime(\u001b[39m\"\u001b[39m\u001b[39m%d\u001b[39;00m\u001b[39m-\u001b[39m\u001b[39m%\u001b[39m\u001b[39mm-\u001b[39m\u001b[39m%\u001b[39m\u001b[39mY\u001b[39m\u001b[39m\"\u001b[39m)\n",
      "File \u001b[1;32mc:\\Users\\franc\\AppData\\Local\\Programs\\Python\\Python311\\Lib\\site-packages\\pandas\\core\\generic.py:5989\u001b[0m, in \u001b[0;36mNDFrame.__getattr__\u001b[1;34m(self, name)\u001b[0m\n\u001b[0;32m   5982\u001b[0m \u001b[39mif\u001b[39;00m (\n\u001b[0;32m   5983\u001b[0m     name \u001b[39mnot\u001b[39;00m \u001b[39min\u001b[39;00m \u001b[39mself\u001b[39m\u001b[39m.\u001b[39m_internal_names_set\n\u001b[0;32m   5984\u001b[0m     \u001b[39mand\u001b[39;00m name \u001b[39mnot\u001b[39;00m \u001b[39min\u001b[39;00m \u001b[39mself\u001b[39m\u001b[39m.\u001b[39m_metadata\n\u001b[0;32m   5985\u001b[0m     \u001b[39mand\u001b[39;00m name \u001b[39mnot\u001b[39;00m \u001b[39min\u001b[39;00m \u001b[39mself\u001b[39m\u001b[39m.\u001b[39m_accessors\n\u001b[0;32m   5986\u001b[0m     \u001b[39mand\u001b[39;00m \u001b[39mself\u001b[39m\u001b[39m.\u001b[39m_info_axis\u001b[39m.\u001b[39m_can_hold_identifiers_and_holds_name(name)\n\u001b[0;32m   5987\u001b[0m ):\n\u001b[0;32m   5988\u001b[0m     \u001b[39mreturn\u001b[39;00m \u001b[39mself\u001b[39m[name]\n\u001b[1;32m-> 5989\u001b[0m \u001b[39mreturn\u001b[39;00m \u001b[39mobject\u001b[39;49m\u001b[39m.\u001b[39;49m\u001b[39m__getattribute__\u001b[39;49m(\u001b[39mself\u001b[39;49m, name)\n",
      "File \u001b[1;32mc:\\Users\\franc\\AppData\\Local\\Programs\\Python\\Python311\\Lib\\site-packages\\pandas\\core\\accessor.py:224\u001b[0m, in \u001b[0;36mCachedAccessor.__get__\u001b[1;34m(self, obj, cls)\u001b[0m\n\u001b[0;32m    221\u001b[0m \u001b[39mif\u001b[39;00m obj \u001b[39mis\u001b[39;00m \u001b[39mNone\u001b[39;00m:\n\u001b[0;32m    222\u001b[0m     \u001b[39m# we're accessing the attribute of the class, i.e., Dataset.geo\u001b[39;00m\n\u001b[0;32m    223\u001b[0m     \u001b[39mreturn\u001b[39;00m \u001b[39mself\u001b[39m\u001b[39m.\u001b[39m_accessor\n\u001b[1;32m--> 224\u001b[0m accessor_obj \u001b[39m=\u001b[39m \u001b[39mself\u001b[39;49m\u001b[39m.\u001b[39;49m_accessor(obj)\n\u001b[0;32m    225\u001b[0m \u001b[39m# Replace the property with the accessor object. Inspired by:\u001b[39;00m\n\u001b[0;32m    226\u001b[0m \u001b[39m# https://www.pydanny.com/cached-property.html\u001b[39;00m\n\u001b[0;32m    227\u001b[0m \u001b[39m# We need to use object.__setattr__ because we overwrite __setattr__ on\u001b[39;00m\n\u001b[0;32m    228\u001b[0m \u001b[39m# NDFrame\u001b[39;00m\n\u001b[0;32m    229\u001b[0m \u001b[39mobject\u001b[39m\u001b[39m.\u001b[39m\u001b[39m__setattr__\u001b[39m(obj, \u001b[39mself\u001b[39m\u001b[39m.\u001b[39m_name, accessor_obj)\n",
      "File \u001b[1;32mc:\\Users\\franc\\AppData\\Local\\Programs\\Python\\Python311\\Lib\\site-packages\\pandas\\core\\indexes\\accessors.py:580\u001b[0m, in \u001b[0;36mCombinedDatetimelikeProperties.__new__\u001b[1;34m(cls, data)\u001b[0m\n\u001b[0;32m    577\u001b[0m \u001b[39melif\u001b[39;00m is_period_dtype(data\u001b[39m.\u001b[39mdtype):\n\u001b[0;32m    578\u001b[0m     \u001b[39mreturn\u001b[39;00m PeriodProperties(data, orig)\n\u001b[1;32m--> 580\u001b[0m \u001b[39mraise\u001b[39;00m \u001b[39mAttributeError\u001b[39;00m(\u001b[39m\"\u001b[39m\u001b[39mCan only use .dt accessor with datetimelike values\u001b[39m\u001b[39m\"\u001b[39m)\n",
      "\u001b[1;31mAttributeError\u001b[0m: Can only use .dt accessor with datetimelike values"
     ]
    }
   ],
   "source": [
    "base_pix['inicio_operacao'] = base_pix['inicio_operacao'].dt.strftime(\"%d/%m/%Y\")"
   ]
  },
  {
   "cell_type": "code",
   "execution_count": 46,
   "metadata": {},
   "outputs": [
    {
     "data": {
      "text/html": [
       "<div>\n",
       "<style scoped>\n",
       "    .dataframe tbody tr th:only-of-type {\n",
       "        vertical-align: middle;\n",
       "    }\n",
       "\n",
       "    .dataframe tbody tr th {\n",
       "        vertical-align: top;\n",
       "    }\n",
       "\n",
       "    .dataframe thead th {\n",
       "        text-align: right;\n",
       "    }\n",
       "</style>\n",
       "<table border=\"1\" class=\"dataframe\">\n",
       "  <thead>\n",
       "    <tr style=\"text-align: right;\">\n",
       "      <th></th>\n",
       "      <th>ispb</th>\n",
       "      <th>nome</th>\n",
       "      <th>nome_reduzido</th>\n",
       "      <th>modalidade_participacao</th>\n",
       "      <th>tipo_participacao</th>\n",
       "      <th>inicio_operacao</th>\n",
       "      <th>inicio_operacao_tratado</th>\n",
       "    </tr>\n",
       "  </thead>\n",
       "  <tbody>\n",
       "    <tr>\n",
       "      <th>0</th>\n",
       "      <td>00000000</td>\n",
       "      <td>BANCO DO BRASIL S.A.</td>\n",
       "      <td>BCO DO BRASIL S.A.</td>\n",
       "      <td>PDCT</td>\n",
       "      <td>DRCT</td>\n",
       "      <td>03/11/2020</td>\n",
       "      <td>03/11/2020</td>\n",
       "    </tr>\n",
       "    <tr>\n",
       "      <th>1</th>\n",
       "      <td>00000208</td>\n",
       "      <td>BRB - BANCO DE BRASILIA S.A.</td>\n",
       "      <td>BRB - BCO DE BRASILIA S.A.</td>\n",
       "      <td>PDCT</td>\n",
       "      <td>DRCT</td>\n",
       "      <td>03/11/2020</td>\n",
       "      <td>03/11/2020</td>\n",
       "    </tr>\n",
       "    <tr>\n",
       "      <th>2</th>\n",
       "      <td>00068987</td>\n",
       "      <td>COOPERATIVA DE CRÉDITO ARACREDI LTDA. - SICOOB...</td>\n",
       "      <td>CC ARACREDI LTDA.</td>\n",
       "      <td>PDCT</td>\n",
       "      <td>IDRT</td>\n",
       "      <td>03/11/2020</td>\n",
       "      <td>03/11/2020</td>\n",
       "    </tr>\n",
       "    <tr>\n",
       "      <th>3</th>\n",
       "      <td>00075847</td>\n",
       "      <td>COOPERATIVA DE CRÉDITO UNICRED CENTRO-SUL LTDA...</td>\n",
       "      <td>CC UNICRED CENTRO-SUL LTDA - UNICRED CENTRO-SUL</td>\n",
       "      <td>PDCT</td>\n",
       "      <td>IDRT</td>\n",
       "      <td>03/11/2020</td>\n",
       "      <td>03/11/2020</td>\n",
       "    </tr>\n",
       "    <tr>\n",
       "      <th>4</th>\n",
       "      <td>00106180</td>\n",
       "      <td>CENTRAL DAS COOPERATIVAS DE CRÉDITO DOS ESTADO...</td>\n",
       "      <td>CCC DOS EST DE MT, MS E MUN DE CACOAL/RO</td>\n",
       "      <td>PDCT</td>\n",
       "      <td>IDRT</td>\n",
       "      <td>03/11/2020</td>\n",
       "      <td>03/11/2020</td>\n",
       "    </tr>\n",
       "  </tbody>\n",
       "</table>\n",
       "</div>"
      ],
      "text/plain": [
       "       ispb                                               nome  \\\n",
       "0  00000000                               BANCO DO BRASIL S.A.   \n",
       "1  00000208                       BRB - BANCO DE BRASILIA S.A.   \n",
       "2  00068987  COOPERATIVA DE CRÉDITO ARACREDI LTDA. - SICOOB...   \n",
       "3  00075847  COOPERATIVA DE CRÉDITO UNICRED CENTRO-SUL LTDA...   \n",
       "4  00106180  CENTRAL DAS COOPERATIVAS DE CRÉDITO DOS ESTADO...   \n",
       "\n",
       "                                     nome_reduzido modalidade_participacao  \\\n",
       "0                               BCO DO BRASIL S.A.                    PDCT   \n",
       "1                       BRB - BCO DE BRASILIA S.A.                    PDCT   \n",
       "2                                CC ARACREDI LTDA.                    PDCT   \n",
       "3  CC UNICRED CENTRO-SUL LTDA - UNICRED CENTRO-SUL                    PDCT   \n",
       "4         CCC DOS EST DE MT, MS E MUN DE CACOAL/RO                    PDCT   \n",
       "\n",
       "  tipo_participacao inicio_operacao inicio_operacao_tratado  \n",
       "0              DRCT      03/11/2020              03/11/2020  \n",
       "1              DRCT      03/11/2020              03/11/2020  \n",
       "2              IDRT      03/11/2020              03/11/2020  \n",
       "3              IDRT      03/11/2020              03/11/2020  \n",
       "4              IDRT      03/11/2020              03/11/2020  "
      ]
     },
     "execution_count": 46,
     "metadata": {},
     "output_type": "execute_result"
    }
   ],
   "source": [
    "base_pix.head()"
   ]
  },
  {
   "cell_type": "code",
   "execution_count": 50,
   "metadata": {},
   "outputs": [],
   "source": [
    "base_pix_tratada = base_pix.drop('inicio_operacao_tratado', axis=1)"
   ]
  },
  {
   "cell_type": "markdown",
   "metadata": {},
   "source": [
    "Salvar em banco de dados"
   ]
  },
  {
   "cell_type": "code",
   "execution_count": 52,
   "metadata": {},
   "outputs": [
    {
     "ename": "NameError",
     "evalue": "name 'df_estado_sp' is not defined",
     "output_type": "error",
     "traceback": [
      "\u001b[1;31m---------------------------------------------------------------------------\u001b[0m",
      "\u001b[1;31mNameError\u001b[0m                                 Traceback (most recent call last)",
      "\u001b[1;32mc:\\Users\\franc\\Documents\\CursoPython\\projeto02_1.ipynb Cell 31\u001b[0m line \u001b[0;36m2\n\u001b[0;32m      <a href='vscode-notebook-cell:/c%3A/Users/franc/Documents/CursoPython/projeto02_1.ipynb#W6sZmlsZQ%3D%3D?line=0'>1</a>\u001b[0m conn \u001b[39m=\u001b[39m sqlite3\u001b[39m.\u001b[39mconnect(\u001b[39m'\u001b[39m\u001b[39mbase_uf_tratada.db\u001b[39m\u001b[39m'\u001b[39m)\n\u001b[1;32m----> <a href='vscode-notebook-cell:/c%3A/Users/franc/Documents/CursoPython/projeto02_1.ipynb#W6sZmlsZQ%3D%3D?line=1'>2</a>\u001b[0m df_estado_sp\u001b[39m.\u001b[39mto_sql(\u001b[39m'\u001b[39m\u001b[39mbase_uf_tratada\u001b[39m\u001b[39m'\u001b[39m, conn, if_exists\u001b[39m=\u001b[39m\u001b[39m'\u001b[39m\u001b[39mreplace\u001b[39m\u001b[39m'\u001b[39m, index\u001b[39m=\u001b[39m\u001b[39mFalse\u001b[39;00m)\n\u001b[0;32m      <a href='vscode-notebook-cell:/c%3A/Users/franc/Documents/CursoPython/projeto02_1.ipynb#W6sZmlsZQ%3D%3D?line=2'>3</a>\u001b[0m query \u001b[39m=\u001b[39m \u001b[39m\"\u001b[39m\u001b[39mSELECT * FROM base_uf_tratada\u001b[39m\u001b[39m\"\u001b[39m\n\u001b[0;32m      <a href='vscode-notebook-cell:/c%3A/Users/franc/Documents/CursoPython/projeto02_1.ipynb#W6sZmlsZQ%3D%3D?line=3'>4</a>\u001b[0m df \u001b[39m=\u001b[39m pd\u001b[39m.\u001b[39mread_sql(query, conn)\n",
      "\u001b[1;31mNameError\u001b[0m: name 'df_estado_sp' is not defined"
     ]
    }
   ],
   "source": [
    "conn = sqlite3.connect('base_uf_tratada.db')\n",
    "df_estado_sp.to_sql('base_uf_tratada', conn, if_exists='replace', index=False)\n",
    "query = \"SELECT * FROM base_uf_tratada\"\n",
    "df = pd.read_sql(query, conn)\n",
    "print(df)\n",
    "\n",
    "conn.close()"
   ]
  }
 ],
 "metadata": {
  "kernelspec": {
   "display_name": "Python 3",
   "language": "python",
   "name": "python3"
  },
  "language_info": {
   "codemirror_mode": {
    "name": "ipython",
    "version": 3
   },
   "file_extension": ".py",
   "mimetype": "text/x-python",
   "name": "python",
   "nbconvert_exporter": "python",
   "pygments_lexer": "ipython3",
   "version": "3.11.4"
  },
  "orig_nbformat": 4
 },
 "nbformat": 4,
 "nbformat_minor": 2
}
